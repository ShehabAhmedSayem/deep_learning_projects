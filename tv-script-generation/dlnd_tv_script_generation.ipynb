{
 "cells": [
  {
   "cell_type": "markdown",
   "metadata": {},
   "source": [
    "# TV Script Generation\n",
    "In this project, you'll generate your own [Simpsons](https://en.wikipedia.org/wiki/The_Simpsons) TV scripts using RNNs.  You'll be using part of the [Simpsons dataset](https://www.kaggle.com/wcukierski/the-simpsons-by-the-data) of scripts from 27 seasons.  The Neural Network you'll build will generate a new TV script for a scene at [Moe's Tavern](https://simpsonswiki.com/wiki/Moe's_Tavern).\n",
    "## Get the Data\n",
    "The data is already provided for you.  You'll be using a subset of the original dataset.  It consists of only the scenes in Moe's Tavern.  This doesn't include other versions of the tavern, like \"Moe's Cavern\", \"Flaming Moe's\", \"Uncle Moe's Family Feed-Bag\", etc.."
   ]
  },
  {
   "cell_type": "code",
   "execution_count": 1,
   "metadata": {},
   "outputs": [],
   "source": [
    "\"\"\"\n",
    "DON'T MODIFY ANYTHING IN THIS CELL\n",
    "\"\"\"\n",
    "import helper\n",
    "\n",
    "data_dir = './data/simpsons/moes_tavern_lines.txt'\n",
    "text = helper.load_data(data_dir)\n",
    "# Ignore notice, since we don't use it for analysing the data\n",
    "text = text[81:]"
   ]
  },
  {
   "cell_type": "markdown",
   "metadata": {},
   "source": [
    "## Explore the Data\n",
    "Play around with `view_sentence_range` to view different parts of the data."
   ]
  },
  {
   "cell_type": "code",
   "execution_count": 2,
   "metadata": {},
   "outputs": [
    {
     "name": "stdout",
     "output_type": "stream",
     "text": [
      "Dataset Stats\n",
      "Roughly the number of unique words: 11492\n",
      "Number of scenes: 262\n",
      "Average number of sentences in each scene: 15.248091603053435\n",
      "Number of lines: 4257\n",
      "Average number of words in each line: 11.50434578341555\n",
      "\n",
      "The sentences 0 to 10:\n",
      "Moe_Szyslak: (INTO PHONE) Moe's Tavern. Where the elite meet to drink.\n",
      "Bart_Simpson: Eh, yeah, hello, is Mike there? Last name, Rotch.\n",
      "Moe_Szyslak: (INTO PHONE) Hold on, I'll check. (TO BARFLIES) Mike Rotch. Mike Rotch. Hey, has anybody seen Mike Rotch, lately?\n",
      "Moe_Szyslak: (INTO PHONE) Listen you little puke. One of these days I'm gonna catch you, and I'm gonna carve my name on your back with an ice pick.\n",
      "Moe_Szyslak: What's the matter Homer? You're not your normal effervescent self.\n",
      "Homer_Simpson: I got my problems, Moe. Give me another one.\n",
      "Moe_Szyslak: Homer, hey, you should not drink to forget your problems.\n",
      "Barney_Gumble: Yeah, you should only drink to enhance your social skills.\n",
      "\n",
      "\n"
     ]
    }
   ],
   "source": [
    "view_sentence_range = (0, 10)\n",
    "\n",
    "\"\"\"\n",
    "DON'T MODIFY ANYTHING IN THIS CELL\n",
    "\"\"\"\n",
    "import numpy as np\n",
    "\n",
    "print('Dataset Stats')\n",
    "print('Roughly the number of unique words: {}'.format(len({word: None for word in text.split()})))\n",
    "scenes = text.split('\\n\\n')\n",
    "print('Number of scenes: {}'.format(len(scenes)))\n",
    "sentence_count_scene = [scene.count('\\n') for scene in scenes]\n",
    "print('Average number of sentences in each scene: {}'.format(np.average(sentence_count_scene)))\n",
    "\n",
    "sentences = [sentence for scene in scenes for sentence in scene.split('\\n')]\n",
    "print('Number of lines: {}'.format(len(sentences)))\n",
    "word_count_sentence = [len(sentence.split()) for sentence in sentences]\n",
    "print('Average number of words in each line: {}'.format(np.average(word_count_sentence)))\n",
    "\n",
    "print()\n",
    "print('The sentences {} to {}:'.format(*view_sentence_range))\n",
    "print('\\n'.join(text.split('\\n')[view_sentence_range[0]:view_sentence_range[1]]))"
   ]
  },
  {
   "cell_type": "markdown",
   "metadata": {},
   "source": [
    "## Implement Preprocessing Functions\n",
    "The first thing to do to any dataset is preprocessing.  Implement the following preprocessing functions below:\n",
    "- Lookup Table\n",
    "- Tokenize Punctuation\n",
    "\n",
    "### Lookup Table\n",
    "To create a word embedding, you first need to transform the words to ids.  In this function, create two dictionaries:\n",
    "- Dictionary to go from the words to an id, we'll call `vocab_to_int`\n",
    "- Dictionary to go from the id to word, we'll call `int_to_vocab`\n",
    "\n",
    "Return these dictionaries in the following tuple `(vocab_to_int, int_to_vocab)`"
   ]
  },
  {
   "cell_type": "code",
   "execution_count": 6,
   "metadata": {},
   "outputs": [
    {
     "name": "stdout",
     "output_type": "stream",
     "text": [
      "Tests Passed\n"
     ]
    }
   ],
   "source": [
    "import numpy as np\n",
    "import problem_unittests as tests\n",
    "from collections import Counter\n",
    "\n",
    "def create_lookup_tables(text):\n",
    "    \"\"\"\n",
    "    Create lookup tables for vocabulary\n",
    "    :param text: The text of tv scripts split into words\n",
    "    :return: A tuple of dicts (vocab_to_int, int_to_vocab)\n",
    "    \"\"\"\n",
    "    # TODO: Implement Function\n",
    "    vocab = set(text)\n",
    "    vocab_to_int = {word: ii for ii, word in enumerate(vocab)}\n",
    "    int_to_vocab = {ii: word for ii, word in enumerate(vocab)}\n",
    "    return (vocab_to_int, int_to_vocab)\n",
    "\n",
    "\n",
    "\"\"\"\n",
    "DON'T MODIFY ANYTHING IN THIS CELL THAT IS BELOW THIS LINE\n",
    "\"\"\"\n",
    "tests.test_create_lookup_tables(create_lookup_tables)"
   ]
  },
  {
   "cell_type": "markdown",
   "metadata": {},
   "source": [
    "### Tokenize Punctuation\n",
    "We'll be splitting the script into a word array using spaces as delimiters.  However, punctuations like periods and exclamation marks make it hard for the neural network to distinguish between the word \"bye\" and \"bye!\".\n",
    "\n",
    "Implement the function `token_lookup` to return a dict that will be used to tokenize symbols like \"!\" into \"||Exclamation_Mark||\".  Create a dictionary for the following symbols where the symbol is the key and value is the token:\n",
    "- Period ( . )\n",
    "- Comma ( , )\n",
    "- Quotation Mark ( \" )\n",
    "- Semicolon ( ; )\n",
    "- Exclamation mark ( ! )\n",
    "- Question mark ( ? )\n",
    "- Left Parentheses ( ( )\n",
    "- Right Parentheses ( ) )\n",
    "- Dash ( -- )\n",
    "- Return ( \\n )\n",
    "\n",
    "This dictionary will be used to token the symbols and add the delimiter (space) around it.  This separates the symbols as it's own word, making it easier for the neural network to predict on the next word. Make sure you don't use a token that could be confused as a word. Instead of using the token \"dash\", try using something like \"||dash||\"."
   ]
  },
  {
   "cell_type": "code",
   "execution_count": 7,
   "metadata": {},
   "outputs": [
    {
     "name": "stdout",
     "output_type": "stream",
     "text": [
      "Tests Passed\n"
     ]
    }
   ],
   "source": [
    "def token_lookup():\n",
    "    \"\"\"\n",
    "    Generate a dict to turn punctuation into a token.\n",
    "    :return: Tokenize dictionary where the key is the punctuation and the value is the token\n",
    "    \"\"\"\n",
    "    # TODO: Implement Function\n",
    "    token_dict = {}\n",
    "    token_dict['.'] = \"||Period||\"\n",
    "    token_dict[','] = \"||Comma||\"\n",
    "    token_dict['\"'] = \"||Quotation_Mark||\" \n",
    "    token_dict[';'] = \"||Semicolon||\"\n",
    "    token_dict['!'] = \"||Exclamation_mark||\"\n",
    "    token_dict['?'] = \"||Question_mark||\"\n",
    "    token_dict['('] = \"||Left_Parentheses||\" \n",
    "    token_dict[')'] = \"||Right_Parentheses||\"\n",
    "    token_dict['--'] = \"||Dash||\"\n",
    "    token_dict['\\n'] = \"||Return||\"\n",
    "    return token_dict\n",
    "\n",
    "\"\"\"\n",
    "DON'T MODIFY ANYTHING IN THIS CELL THAT IS BELOW THIS LINE\n",
    "\"\"\"\n",
    "tests.test_tokenize(token_lookup)"
   ]
  },
  {
   "cell_type": "markdown",
   "metadata": {},
   "source": [
    "## Preprocess all the data and save it\n",
    "Running the code cell below will preprocess all the data and save it to file."
   ]
  },
  {
   "cell_type": "code",
   "execution_count": 8,
   "metadata": {},
   "outputs": [],
   "source": [
    "\"\"\"\n",
    "DON'T MODIFY ANYTHING IN THIS CELL\n",
    "\"\"\"\n",
    "# Preprocess Training, Validation, and Testing Data\n",
    "helper.preprocess_and_save_data(data_dir, token_lookup, create_lookup_tables)"
   ]
  },
  {
   "cell_type": "markdown",
   "metadata": {},
   "source": [
    "# Check Point\n",
    "This is your first checkpoint. If you ever decide to come back to this notebook or have to restart the notebook, you can start from here. The preprocessed data has been saved to disk."
   ]
  },
  {
   "cell_type": "code",
   "execution_count": 9,
   "metadata": {},
   "outputs": [],
   "source": [
    "\"\"\"\n",
    "DON'T MODIFY ANYTHING IN THIS CELL\n",
    "\"\"\"\n",
    "import helper\n",
    "import numpy as np\n",
    "import problem_unittests as tests\n",
    "\n",
    "int_text, vocab_to_int, int_to_vocab, token_dict = helper.load_preprocess()"
   ]
  },
  {
   "cell_type": "code",
   "execution_count": 10,
   "metadata": {},
   "outputs": [
    {
     "name": "stdout",
     "output_type": "stream",
     "text": [
      "{'gunter': 0, 'miss_lois_pennycandy:': 1, 'nauseous': 2, 'avec': 3, 'louisiana': 4, 'elizabeth': 5, 'pants': 6, 'pumping': 7, \"cupid's\": 8, 'composite': 9, 'feels': 10, 'alfalfa': 11, 'beer:': 12, 'jar': 13, 'realize': 14, 'champignons': 15, 'frustrated': 16, 'mathis': 17, 'bottles': 18, 'doctor': 19, 'arm-pittish': 20, 'guns': 21, 'daughter': 22, \"gettin'\": 23, 'theme': 24, \"life's\": 25, 'amiable': 26, 'justify': 27, 'furry': 28, '||period||': 29, 'grammy': 30, 'dispenser': 31, 'wife': 32, 'disturbing': 33, 'table': 34, 'even': 35, 'ahh': 36, 'inherent': 37, 'vampire': 38, 'choked-up': 39, 'whaddaya': 40, 'ticket': 41, 'chuckle': 42, 'smugglers': 43, 'bathed': 44, 'hibachi': 45, 'regulations': 46, 'yo': 47, 'raging': 48, 'yup': 49, 'gambler': 50, 'frankenstein': 51, 'gol-dangit': 52, 'one-hour': 53, 'aging': 54, 'trouble': 55, \"let's\": 56, 'delighted': 57, 'proof': 58, 'asks': 59, 'kicked': 60, 'norway': 61, 'seconds': 62, 'distaste': 63, 'site': 64, 'pridesters:': 65, 'barkeeps': 66, 'healthier': 67, 'sunglasses': 68, 'apu_nahasapeemapetilon:': 69, 'rims': 70, 'row': 71, \"what'll\": 72, 'tie': 73, 'saved': 74, 'agents': 75, \"'ere\": 76, 'kemi': 77, 'subject': 78, 'managing': 79, 'whether': 80, 'damn': 81, \"game's\": 82, 'goodwill': 83, 'thesaurus': 84, 'rupert_murdoch:': 85, 'written': 86, 'theatrical': 87, 'cash': 88, 'inserted': 89, 'troll': 90, 'skills': 91, 'lobster-based': 92, 'simon': 93, 'stink': 94, 'sheet': 95, 'eliminate': 96, 'arise': 97, 'veux': 98, 'agent_johnson:': 99, 'kills': 100, 'silent': 101, \"ma'am\": 102, 'overstressed': 103, 'lanes': 104, \"carl's\": 105, 'cent': 106, 'mission': 107, 'supplying': 108, 'move': 109, 'holidays': 110, 'freshened': 111, 'sister-in-law': 112, 'exhale': 113, 'slurred': 114, 'spanish': 115, 'shesh': 116, 'deliberate': 117, 'slobs': 118, 'perfected': 119, 'sentimonies': 120, 'numeral': 121, 'nasa': 122, 'shores': 123, 'y': 124, 'expired': 125, 'something': 126, 'sickly': 127, 'urine': 128, 'devastated': 129, 'entrance': 130, 'flowers': 131, 'choking': 132, 'brainheaded': 133, \"school's\": 134, 'team': 135, 'court': 136, 'general': 137, 'buying': 138, 'sacajawea': 139, 'ech': 140, 'glen': 141, 'bow': 142, 'dennis_kucinich:': 143, 'attach': 144, 'ribbon': 145, 'health': 146, 'near': 147, 'brave': 148, 'nelson': 149, 'hoagie': 150, 'entertainer': 151, 'idioms': 152, 'cruel': 153, 'administration': 154, 'y-you': 155, 'caused': 156, 'hair': 157, 'hillary': 158, 'wipes': 159, 'grimly': 160, 'motor': 161, 'botanical': 162, 'sam:': 163, 'rector': 164, 'apology': 165, 'song': 166, 'offa': 167, 'aah': 168, 'bookie': 169, 'necessary': 170, 'wraps': 171, 'reads': 172, 'agreement': 173, 'remembered': 174, 'whoa-ho': 175, 'peaked': 176, 'barter': 177, 'cutting': 178, 'himself': 179, 'pulls': 180, 'lurks': 181, 'stories': 182, 'celebrate': 183, 'sips': 184, 'angrily': 185, 'lift': 186, 'affectations': 187, \"aren't\": 188, 'schmoe': 189, 'most': 190, 'tourist': 191, 'beef': 192, 'flush-town': 193, 'superior': 194, 'sings': 195, 'skins': 196, 'prayer': 197, 'underbridge': 198, 'coaster': 199, 'whose': 200, 'hat': 201, 'steinbrenner': 202, 'has': 203, 'plans': 204, 'chapel': 205, 'enter': 206, 'money': 207, 'telegraph': 208, 'righ': 209, 'ruled': 210, 'partner': 211, 'sit': 212, 'super-genius': 213, 'superhero': 214, 'winch': 215, 'drunkening': 216, 'alcoholism': 217, 'warning': 218, \"'tis\": 219, 'fifth': 220, 'boxers': 221, 'soir': 222, 'golf': 223, 'wenceslas': 224, 'allow': 225, 'quotes': 226, 'nation': 227, 'low-blow': 228, 'traitor': 229, 'playoff': 230, 'website': 231, 'gulliver_dark:': 232, 'helped': 233, 'strategy': 234, '/': 235, '||quotation_mark||': 236, 'stagehand:': 237, '||comma||': 238, 'scratching': 239, 'germs': 240, 'crestfallen': 241, 'retain': 242, 'oh': 243, 'marvelous': 244, 'blind': 245, 'soaps': 246, 'napkins': 247, 'acquitted': 248, 'radiation': 249, 'shakes': 250, 'aged': 251, 'what': 252, 'then': 253, 'ore': 254, '1895': 255, 'loafers': 256, 'routine': 257, 'smells': 258, 'seem': 259, 'clear': 260, 'married': 261, 'pfft': 262, 'repairman': 263, 'grudgingly': 264, 'prepared': 265, 'hungry': 266, 'been': 267, 'teenage': 268, 'pawed': 269, 'ninety-eight': 270, 'bye': 271, \"tree's\": 272, 'sweaty': 273, 'calculate': 274, 'already': 275, 'lie': 276, 'powered': 277, 'puzzle': 278, 'mahatma': 279, 'imaginary': 280, 'assassination': 281, 'barf': 282, 'face-macer': 283, 'store-bought': 284, 'chuckles': 285, 'incapable': 286, 'folk': 287, 'whaddya': 288, 'italian': 289, 'save': 290, 'fast': 291, 'villanova': 292, 'barbed': 293, 'counting': 294, 'eyeing': 295, 'donation': 296, 'logos': 297, 'firm': 298, 'anniversary': 299, 'chicken': 300, 'peabody': 301, '_eugene_blatz:': 302, 'pig': 303, 'semi-imported': 304, 'got': 305, 'buy': 306, 'entirely': 307, 'exactly': 308, 'reaction': 309, 'lobster': 310, 'augustus': 311, 'rob': 312, 'sports': 313, \"clancy's\": 314, 'calm': 315, 'beautiful': 316, 'vodka': 317, 'change': 318, 'industry': 319, 'sesame': 320, 'sideshow': 321, 'moxie': 322, 'walk': 323, \"grandmother's\": 324, 'huge': 325, 'pad': 326, 'planet': 327, \"hobo's\": 328, 'ziff': 329, 'oooh': 330, 'infatuation': 331, '||return||': 332, 'kim_basinger:': 333, 'accelerating': 334, 'hostile': 335, 'put': 336, 'susie-q': 337, 'sheets': 338, 'fingers': 339, 'ridiculous': 340, 'bret:': 341, 'talking': 342, 'literature': 343, 'grampa': 344, 'grace': 345, 'mountain': 346, 'detail': 347, 'mudflap': 348, 'geez': 349, 'movement': 350, 'mason': 351, 'names': 352, \"aren'tcha\": 353, 'message': 354, 'heard': 355, 'wide': 356, 'dreary': 357, 'pus-bucket': 358, 'given': 359, 'poetics': 360, \"challengin'\": 361, 'schemes': 362, 'diminish': 363, 'went': 364, 'hot-rod': 365, 'milks': 366, \"homer's_brain:\": 367, 'wholeheartedly': 368, 'marquee': 369, 'watt': 370, 'tying': 371, 'annie': 372, 'realized': 373, 'forgotten': 374, 'vomit': 375, 'sued': 376, 'tickets': 377, 'expect': 378, 'trip': 379, 'politician': 380, 'stinger': 381, 'gave': 382, 'dollar': 383, 'ref': 384, \"games'd\": 385, 'dealie': 386, \"bladder's\": 387, 'illegally': 388, 'boisterous': 389, \"heat's\": 390, 'towed': 391, 'shag': 392, 'reporter': 393, 'zinged': 394, 'lee': 395, 'uh': 396, 'riding': 397, 'knowledge': 398, 'happily': 399, 'handing': 400, 'freak': 401, 'gin-slingers': 402, 'sells': 403, 'stacey': 404, 'influence': 405, 'mirthless': 406, 'multi-purpose': 407, 'spooky': 408, 'maggie': 409, 'smelly': 410, 'witty': 411, 'spamming': 412, 'burps': 413, 'skydiving': 414, 'covers': 415, 'mushy': 416, 'disguise': 417, 'absentmindedly': 418, 'standards': 419, 'miss': 420, 'tony': 421, \"drivin'\": 422, 'two': 423, 'six': 424, 'clipped': 425, 'twins': 426, 'portfolium': 427, 'prayers': 428, 'nfl_narrator:': 429, 'corkscrews': 430, 'jewelry': 431, 'extreme': 432, 'thanks': 433, 'faceful': 434, 'side:': 435, 'cricket': 436, 'single-mindedness': 437, 'hampstead-on-cecil-cecil': 438, 'friendly': 439, 'beards': 440, 'darkest': 441, \"stealin'\": 442, 'lodge': 443, 'ringing': 444, 'punishment': 445, 'decide': 446, \"'im\": 447, 'accent': 448, 'spinning': 449, 'venom': 450, 'ahead': 451, 'become': 452, 'storms': 453, 'remain': 454, \"he's\": 455, 'handsome': 456, 'gentlemen': 457, 'philip': 458, 'kinderhook': 459, 'wage': 460, 'witches': 461, 'wittgenstein': 462, \"jimbo's_dad:\": 463, \"'round\": 464, 'temples': 465, \"chewin'\": 466, 'abe': 467, 'wings': 468, 'depression': 469, 'times': 470, 'cosmetics': 471, 'geysir': 472, 'france': 473, 'city': 474, 'fly': 475, 'bourbon': 476, 'muhammad': 477, '50%': 478, 'hurry': 479, 'duffman:': 480, 'commanding': 481, 'sight-unseen': 482, 'princesses': 483, 'yoo': 484, 'voice': 485, 'edgy': 486, 'perhaps': 487, 'going': 488, 'baseball': 489, 'digging': 490, 'amused': 491, 'drop': 492, 'cents': 493, 'unforgettable': 494, \"'evening\": 495, 'coughs': 496, '14': 497, 'sing': 498, 'joe': 499, 'patty_bouvier:': 500, 'information': 501, 'journey': 502, 'swill': 503, 'just': 504, 'plastic': 505, 'leg': 506, 'singing': 507, 'graves': 508, 'soothing': 509, 'special': 510, 'involving': 511, 'salvador': 512, 'margarita': 513, 'struggling': 514, 'comic_book_guy:': 515, 'lovers': 516, 'author': 517, 'social': 518, 'drown': 519, 'bump': 520, 'top': 521, 'hans:': 522, 'yawns': 523, 'delightfully': 524, 'fat_in_the_hat:': 525, 'acronyms': 526, 'nahasapeemapetilon': 527, 'hmf': 528, 'plus': 529, 'work': 530, 'wally:': 531, 'horses': 532, 'fired': 533, 'strokkur': 534, 'lost': 535, 'lloyd:': 536, 'charlie:': 537, 'between': 538, 'keep': 539, 'blew': 540, 'set': 541, 'pool': 542, 'lugs': 543, 'promotion': 544, 'office': 545, 'moe-lennium': 546, 'whispered': 547, 'shut': 548, 'tornado': 549, 'cranberry': 550, 'rash': 551, 'malabar': 552, 'appearance-altering': 553, 'chapter': 554, 'wood': 555, 'johnny_carson:': 556, 'perfect': 557, 'innocence': 558, 'morning': 559, 'suspect': 560, 'prove': 561, 'boo': 562, 'story': 563, 'toe': 564, 'coma': 565, 'tones': 566, 'rumor': 567, 'delays': 568, 'picture': 569, 'wild': 570, 'julienne': 571, 'basement': 572, 'wallet': 573, 'stolen': 574, 'eggshell': 575, 'bag': 576, 'safety': 577, 'stocking': 578, 'bam': 579, 'up-bup-bup': 580, 'occasion': 581, 'paste': 582, 'richard': 583, 'seminar': 584, 'queen': 585, 'dana_scully:': 586, 'supermarket': 587, 'disgracefully': 588, '91': 589, 'aggie': 590, 'isle': 591, 'lottery': 592, 'earth': 593, 'inspiring': 594, \"kids'\": 595, 'twerpy': 596, 'peter_buck:': 597, 'wrapped': 598, 'filth': 599, 'reading:': 600, 'mocking': 601, 'hunting': 602, 'grabbing': 603, 'pretzel': 604, 'grienke': 605, 'appendectomy': 606, 'lingus': 607, 'puffy': 608, 'pepper': 609, 'nemo': 610, 'snide': 611, 'pride': 612, 'freedom': 613, 'swigmore': 614, 'hispanic_crowd:': 615, 'der': 616, 'you-need-man': 617, 'fill': 618, 'therapist': 619, 'microphone': 620, 'cheers': 621, 'miserable': 622, 'offshoot': 623, \"who'll\": 624, 'positive': 625, 'suffering': 626, 'kucinich': 627, 'catching': 628, 'roomy': 629, 'jumping': 630, 'krabappel': 631, 'forty-nine': 632, 'mags': 633, 'tv_wife:': 634, 'bees': 635, 'eighteen': 636, 'bottom': 637, 'prices': 638, 'indifference': 639, 'hooray': 640, 'drove': 641, \"queen's\": 642, 'bob': 643, 'aggravazes': 644, \"they'll\": 645, 'grants': 646, 'represents': 647, 'platinum': 648, \"edna's\": 649, \"hell's\": 650, 'shutting': 651, 'germany': 652, 'ever': 653, 'yourself': 654, \"sayin'\": 655, 'ring': 656, 'black': 657, 'bubble': 658, 'violin': 659, 'dizer': 660, 'from': 661, 'wobbly': 662, 'ivana': 663, \"'\": 664, 'shape': 665, 'floor': 666, 'double': 667, 'icy': 668, 'realizing': 669, 'onions': 670, 'cigarette': 671, 'answering': 672, 'transfer': 673, 'hardwood': 674, 'half-day': 675, 'underwear': 676, \"children's\": 677, 'the_rich_texan:': 678, \"wife's\": 679, 'j': 680, 'knuckles': 681, 'awkward': 682, 'midge:': 683, 'enabling': 684, \"battin'\": 685, 'familiar': 686, 'flynt': 687, 'accurate': 688, 'following': 689, 'sight': 690, 'calendars': 691, 'certain': 692, 'pitch': 693, 'lovelorn': 694, 'lifetime': 695, 'reluctant': 696, 'runs': 697, 'ungrateful': 698, 'heaving': 699, 'other_player:': 700, 'ees': 701, 'edison': 702, 'ingested': 703, 'drawn': 704, 'whirlybird': 705, 'disco': 706, 'meet': 707, 'online': 708, 'gutenberg': 709, 'pleading': 710, 'dumbass': 711, 'schabadoo': 712, 'drunkenly': 713, 'surprise': 714, 'young_homer:': 715, 'clubs': 716, 'linda_ronstadt:': 717, 'theory': 718, 'huddle': 719, 'delicious': 720, 'belches': 721, 'bothered': 722, 'anarchy': 723, 'carb': 724, 'rekindle': 725, \"when's\": 726, 'lives': 727, 'discriminate': 728, 'highway': 729, \"pickin'\": 730, 'tv': 731, 'confidential': 732, 'mobile': 733, \"somebody's\": 734, 'person': 735, 'swishkabobs': 736, 'supports': 737, 'line': 738, 'plucked': 739, 'queer': 740, 'monday': 741, 'dipping': 742, 'x-men': 743, 'dirge-like': 744, 'fire_inspector:': 745, 'than': 746, 'la': 747, 'permitting': 748, 'tons': 749, 'wedding': 750, 'average-looking': 751, 'flatly': 752, \"makin'\": 753, 'hyper-credits': 754, 'gus': 755, 'secret': 756, 'dollars': 757, 'greystash': 758, \"must've\": 759, 'snap': 760, 'jokes': 761, 'drunks': 762, 'directions': 763, 'shaken': 764, 'pushing': 765, 'reader': 766, 'billion': 767, 'guzzles': 768, 'rug': 769, 'roller': 770, 'drunk': 771, 'sports_announcer:': 772, 'barney-shaped_form:': 773, 'clean': 774, 'gum': 775, 'pageant': 776, \"guy's\": 777, 'relax': 778, 'amazing': 779, 'federal': 780, 'brain-switching': 781, 'um': 782, 'crayola': 783, 'moving': 784, 'romantic': 785, 'officials': 786, 'frat': 787, 'fund': 788, 'pal': 789, 'bret': 790, 'szyslak': 791, 'in-ground': 792, 'mistake': 793, 'collateral': 794, 'guts': 795, 'bottoms': 796, 'impending': 797, 'cauliflower': 798, 'someday': 799, 'freaking': 800, 'selling': 801, 'powerful': 802, 'haircuts': 803, 'alpha-crow': 804, 'overflowing': 805, 'willing': 806, 'wound': 807, 'indeedy': 808, 'f-l-a-n-r-d-s': 809, 'invented': 810, 'option': 811, \"s'cuse\": 812, 'result': 813, 'lookalike': 814, 'dear': 815, 'have': 816, 'life': 817, 'luv': 818, 'upon': 819, 'jerks': 820, 'tee': 821, 'post-suicide': 822, 'thru': 823, 'moved': 824, 'crapmore': 825, 'idiots': 826, 'there': 827, 'over': 828, 'insulin': 829, 'wa': 830, 'gee': 831, 'satisfaction': 832, 'knuckle-dragging': 833, 'ah': 834, 'bluff': 835, 'thirty-nine': 836, 'quickly': 837, 'ancestors': 838, 'harrowing': 839, 'fat_tony:': 840, 'politicians': 841, 'choices:': 842, 'carefully': 843, 'full-bodied': 844, 'taxi': 845, 'yoink': 846, 'record': 847, 'toms': 848, \"cuckold's\": 849, 'pop': 850, \"usin'\": 851, 'ing': 852, 'united': 853, 'second': 854, 'kadlubowski': 855, 'forbids': 856, 'threw': 857, 'liquor': 858, 'fat-free': 859, 'slop': 860, 'cheered': 861, 'sweetie': 862, 'spilled': 863, 'cigars': 864, 'lachrymose': 865, 'intoxicated': 866, 'write': 867, 'voters': 868, 'fleabag': 869, 'dateline': 870, 'scooter': 871, 'stores': 872, 'marge': 873, 'woozy': 874, 'clears': 875, 'menacing': 876, 'aisle': 877, 'peter': 878, 'onion': 879, 'hope': 880, 'boozy': 881, 'rockers': 882, 'thing:': 883, 'proud': 884, 'failure': 885, 'supermodel': 886, 'background': 887, 'sensible': 888, 'dramatically': 889, 'manjula': 890, 'rainbows': 891, 'haiti': 892, \"smackin'\": 893, 'lewis': 894, 'ugly': 895, 'pity': 896, 'lily-pond': 897, 'percent': 898, 'texan': 899, 'wayne:': 900, 'jägermeister': 901, 'ugliness': 902, 'rice': 903, 'minus': 904, 'punching': 905, 'stars': 906, 'grunt': 907, 'chunk': 908, 'tense': 909, 'proposition': 910, 'worth': 911, 'aww': 912, 'store': 913, 'project': 914, 'switched': 915, 'out': 916, 'sketch': 917, 'sink': 918, 'las': 919, 'faint': 920, 'democrats': 921, 'ancient': 922, 'inanely': 923, 'vicious': 924, 'leaving': 925, 'many': 926, 'wishful': 927, 'disdainful': 928, 'compared': 929, 'energy': 930, 'truck_driver:': 931, 'ne': 932, 'klown': 933, 'reasonable': 934, 'persia': 935, 'shoulder': 936, 'hated': 937, '530': 938, 'bumped': 939, \"ol'\": 940, 'price': 941, 'pulitzer': 942, 'eager': 943, 'bonfire': 944, 'fights': 945, 'anguished': 946, 'grieving': 947, 'libido': 948, 'reliable': 949, 'treehouse': 950, 'selfish': 951, 'forgot': 952, 'situation': 953, 'capitol': 954, 'tofu': 955, 'domed': 956, 'gin': 957, 'heroism': 958, 'twenty-two': 959, 'screw': 960, 'pipes': 961, 'idea': 962, 'lenny:': 963, 'worry': 964, 'broncos': 965, 'tv_daughter:': 966, 'flayvin': 967, 'wife-swapping': 968, 'cell': 969, 'distract': 970, 'dregs': 971, 'mid-conversation': 972, 'blues': 973, 'disposal': 974, 'homer_': 975, 'someone': 976, 'alone': 977, 'wobble': 978, 'games': 979, 'invited': 980, 'coms': 981, 'dilemma': 982, 'absolutely': 983, 'burning': 984, 'doreen:': 985, 'jukebox': 986, 'ideal': 987, 'hawking:': 988, 'poetry': 989, 'tavern': 990, 'scrutinizes': 991, 'casting': 992, \"cleanin'\": 993, 'squishee': 994, 'recorder': 995, 'under': 996, 'phasing': 997, 'size': 998, 'successful': 999, 'poster': 1000, 'thnord': 1001, 'flown': 1002, 'goal': 1003, 'society': 1004, 'wh': 1005, 'own': 1006, 'backbone': 1007, 'thousands': 1008, 'starve': 1009, 'befriend': 1010, 'stop': 1011, 'inspire': 1012, 'attend': 1013, 'ron_howard:': 1014, 'proper': 1015, 'surgery': 1016, 'crunch': 1017, 'feedbag': 1018, 'youngsters': 1019, 'head-gunk': 1020, 'burg': 1021, 'cleaning': 1022, 'wally': 1023, 'crumble': 1024, 'onto': 1025, 'changed': 1026, 'according': 1027, 'shush': 1028, 'triumphantly': 1029, 'cares': 1030, 'revenge': 1031, 'jockey': 1032, 'ugh': 1033, 'dna': 1034, 'anything': 1035, 'mary': 1036, 'admit': 1037, 'citizens': 1038, 'lover': 1039, 'experiments': 1040, 'suspicious': 1041, 'utensils': 1042, 'longer': 1043, 'possibly': 1044, 'stu': 1045, 'baritone': 1046, '1973': 1047, 'inflated': 1048, 'blokes': 1049, 'an': 1050, 'period': 1051, 'kemi:': 1052, 'experienced': 1053, 'reluctantly': 1054, 'eight-year-old': 1055, 'rainier_wolfcastle:': 1056, 'decadent': 1057, 'nobody': 1058, 'relative': 1059, 'glass': 1060, 'fumes': 1061, \"yesterday's\": 1062, \"callin'\": 1063, 'rosey': 1064, 'fad': 1065, 'couple': 1066, 'stupidest': 1067, '8': 1068, 'fontaine': 1069, '_marvin_monroe:': 1070, 'cases': 1071, \"breakin'\": 1072, 'closes': 1073, 'blamed': 1074, 'manjula_nahasapeemapetilon:': 1075, 'slender': 1076, 'courteous': 1077, 'pleasant': 1078, 'grand': 1079, 'statue': 1080, 'presents': 1081, 'captain:': 1082, 'bid': 1083, 'burt': 1084, 'listened': 1085, 'horrible': 1086, 'squashing': 1087, 'dyspeptic': 1088, 'acting': 1089, 'combination': 1090, 'timbuk-tee': 1091, 'gift': 1092, 'municipal': 1093, 'phony': 1094, 'wok': 1095, 'closed': 1096, \"startin'\": 1097, 'cozy': 1098, 'mariah': 1099, 'waste': 1100, 'mmm': 1101, 'roz:': 1102, 'squadron': 1103, 'jump': 1104, 'arrest': 1105, 'partly': 1106, 'reached': 1107, 'william': 1108, 'duffman': 1109, 'cummerbund': 1110, 'cowardly': 1111, 'gary_chalmers:': 1112, 'yourse': 1113, 'distributor': 1114, 'male_inspector:': 1115, 'catch': 1116, 'ebullient': 1117, 'flexible': 1118, 'because': 1119, \"duelin'\": 1120, 'drinking': 1121, 'rebuilt': 1122, 'kissed': 1123, 'larson': 1124, 'chip': 1125, 'gloop': 1126, \"'til\": 1127, 'sleigh-horses': 1128, 'slipped': 1129, 'sideshow_mel:': 1130, 'waylon_smithers:': 1131, 'coast': 1132, 'quimbys:': 1133, 'gently': 1134, 'glyco-load': 1135, 'swamp': 1136, 'apulina': 1137, 'rings': 1138, 'deny': 1139, 'drink': 1140, 'till': 1141, 'sistine': 1142, 'owes': 1143, 'competitive': 1144, \"feelin's\": 1145, 'sighs': 1146, 'peppers': 1147, 'bide': 1148, 'associate': 1149, 'charming': 1150, 'coming': 1151, 'einstein': 1152, 'disgusted': 1153, 'gotten': 1154, 'roof': 1155, 'home': 1156, 'hostages': 1157, 'sec': 1158, 'eighty-one': 1159, 'cell-ee': 1160, 'man_with_crazy_beard:': 1161, 'endorsement': 1162, 'uglier': 1163, \"plank's\": 1164, 'robot': 1165, 'self-centered': 1166, 'wildest': 1167, 'bell': 1168, \"where's\": 1169, 'fortune': 1170, 'serious': 1171, 'stepped': 1172, 'jubilation': 1173, 'madonna': 1174, 'tommy': 1175, 'truth': 1176, 'multi-national': 1177, 'belly': 1178, 'low-life': 1179, 'ago': 1180, 'chuckling': 1181, 'warren': 1182, 'control': 1183, 'inexorable': 1184, 'zone': 1185, 'sangre': 1186, 'boxer': 1187, 'dexterous': 1188, \"bo's\": 1189, 'patterns': 1190, 'return': 1191, 'director': 1192, \"y'know\": 1193, 'dog': 1194, 'reasons': 1195, 'was': 1196, 'scornfully': 1197, 'pets': 1198, 'enjoy': 1199, 'pickled': 1200, 'rascals': 1201, 'milhouse_van_houten:': 1202, 'joy': 1203, \"you'd\": 1204, 'flash-fry': 1205, 'various': 1206, 'terrifying': 1207, 'wheel': 1208, 'sobriety': 1209, 'aristotle:': 1210, 'stein-stengel-': 1211, 'mural': 1212, 'sneeze': 1213, 'language': 1214, 'cable': 1215, 'scruffy_blogger:': 1216, 'tinkle': 1217, 'barflies': 1218, 'poison': 1219, 'package': 1220, 'chair': 1221, 'getting': 1222, 'nineteen': 1223, 'chinua': 1224, \"homer's\": 1225, 'whoops': 1226, 'hangout': 1227, 'darts': 1228, \"spyin'\": 1229, 'awwww': 1230, 'tomatoes': 1231, '50-60': 1232, 'dint': 1233, 'offended': 1234, 'army': 1235, 'brine': 1236, 'cock': 1237, 'fondly': 1238, 'sad': 1239, 'heart-broken': 1240, 'moe-ron': 1241, 'high-definition': 1242, 'stamps': 1243, 'invite': 1244, 'dearest': 1245, 'scrubbing': 1246, 'cars': 1247, '3rd_voice:': 1248, 'log': 1249, 'hustle': 1250, 'tabs': 1251, 'meals': 1252, 'suck': 1253, 'dallas': 1254, 'checks': 1255, 'drives': 1256, 'sue': 1257, 'flashing': 1258, 'rig': 1259, 'per': 1260, 'happier': 1261, 'bottomless': 1262, 'band': 1263, 'director:': 1264, 'doug:': 1265, 'football': 1266, 'nucular': 1267, 'huhza': 1268, \"ragin'\": 1269, \"c'mom\": 1270, 'training': 1271, \"'kay-zugg'\": 1272, 'jay_leno:': 1273, 'wave': 1274, 'painting': 1275, 'she-pu': 1276, \"drexel's\": 1277, 'conspiracy': 1278, 'talk-sings': 1279, \"what're\": 1280, 'badmouth': 1281, 'al': 1282, 'woo-hoo': 1283, 'crony': 1284, 'those': 1285, 'bowl': 1286, 'christopher': 1287, 'life-threatening': 1288, 'installed': 1289, 'lloyd': 1290, 'hate': 1291, 'mindless': 1292, 'steal': 1293, 'ram': 1294, 'frozen': 1295, \"mtv's\": 1296, 'finish': 1297, 'private': 1298, 'thorn': 1299, 'grind': 1300, \"neighbor's\": 1301, \"mopin'\": 1302, 'camp': 1303, 'afterglow': 1304, 'standing': 1305, 'dumbest': 1306, 'sucker': 1307, 'prolonged': 1308, 'sausage': 1309, 'puzzled': 1310, 'lighting': 1311, 'mortgage': 1312, 'mccall': 1313, 'hexa-': 1314, 'doreen': 1315, 'funniest': 1316, 'talkative': 1317, 'blank': 1318, 'w': 1319, 'goodnight': 1320, 'dejected_barfly:': 1321, 'cattle': 1322, 'kirk_van_houten:': 1323, 'fulla': 1324, \"can't\": 1325, 'assert': 1326, 'progress': 1327, 'flanders:': 1328, 'beauty': 1329, 'tummies': 1330, 'president': 1331, 'followed': 1332, 'fustigation': 1333, 'coins': 1334, 'corkscrew': 1335, 'affects': 1336, \"lefty's\": 1337, 'somewhere': 1338, 'rubbed': 1339, 'heather': 1340, 'melodramatic': 1341, 'regretted': 1342, 'elaborate': 1343, 'humiliation': 1344, 'ambrosia': 1345, \"stabbin'\": 1346, 'ah-ha': 1347, 'snatch': 1348, 'jeter': 1349, 'plants': 1350, 'knees': 1351, 'puke-pail': 1352, 'alien': 1353, 'dawning': 1354, 'hours': 1355, 'congoleum': 1356, 'dumbbell': 1357, 'years': 1358, 'motel': 1359, 'motorcycle': 1360, 'rationalizing': 1361, 'burnside': 1362, 'presumir': 1363, 'guy': 1364, 'slip': 1365, 're-al': 1366, 'sternly': 1367, 'kentucky': 1368, 'forget': 1369, \"o'reilly\": 1370, \"sat's\": 1371, 'ran': 1372, 'this:': 1373, 'amount': 1374, 'bart_simpson:': 1375, 'clandestine': 1376, 'ballot': 1377, '$42': 1378, 'since': 1379, 'environment': 1380, 'quimby_#2:': 1381, 'washouts': 1382, 'cruise': 1383, 'grubby': 1384, 'captain': 1385, 'flush': 1386, 'amber': 1387, 'moan': 1388, 'headhunters': 1389, 'shells': 1390, 'knock-up': 1391, 'usual': 1392, 'wang': 1393, 'relaxing': 1394, 'benjamin': 1395, 'fantastic': 1396, 'bus': 1397, 'ralphie': 1398, 'plow': 1399, 'sinister': 1400, 'businessman_#2:': 1401, 'outstanding': 1402, 'gabriel': 1403, 'humanity': 1404, 'position': 1405, 'tow': 1406, 'reminded': 1407, 'available': 1408, 'mayor': 1409, 'renee:': 1410, 'drollery': 1411, 'ura': 1412, 'a-b-': 1413, 'shareholder': 1414, 'mill': 1415, 'fledgling': 1416, 'exasperated': 1417, 'heavyset': 1418, 'superdad': 1419, 'simple': 1420, 'tubman': 1421, \"ain't\": 1422, 'van': 1423, 'castle': 1424, 'evergreen': 1425, 'release': 1426, 'full-time': 1427, 'runt': 1428, 'swings': 1429, 'whenever': 1430, 'sissy': 1431, 'runaway': 1432, 'intense': 1433, 'triangle': 1434, 'killjoy': 1435, 'developed': 1436, 'de': 1437, 'sugar': 1438, \"valentine's\": 1439, 'confused': 1440, \"nothin'\": 1441, 'premiering': 1442, 'cesss': 1443, 'choked': 1444, 'species': 1445, 'love': 1446, 'slightly': 1447, \"she's\": 1448, 'crank': 1449, 'hobo': 1450, 'priest': 1451, 'weird': 1452, 'rainforest': 1453, 'greatly': 1454, 'flower': 1455, 'car:': 1456, 'scores': 1457, 'break-up': 1458, 'dentist': 1459, 'con': 1460, 'sass': 1461, 'unattractive': 1462, 'embarrassing': 1463, 'pin': 1464, 'western': 1465, 'terrace': 1466, 'bucket': 1467, 'jig': 1468, 'composer': 1469, 'strong': 1470, 'gangrene': 1471, 'm': 1472, 'pernt': 1473, 'smooth': 1474, 'ninety-nine': 1475, 'air': 1476, 'bull': 1477, 'sick': 1478, 'giggle': 1479, 'convinced': 1480, 'go-near-': 1481, 'shower': 1482, 'harder': 1483, 'bouquet': 1484, 'mild': 1485, 'bulked': 1486, 'contemplates': 1487, 'lease': 1488, 'hold': 1489, 'c': 1490, 'due': 1491, 'subscriptions': 1492, 'ratted': 1493, 'mmm-hmm': 1494, 'carnival': 1495, 'smart': 1496, 'help': 1497, 'outrageous': 1498, 'either': 1499, 'buzz': 1500, 'part': 1501, 'dae': 1502, 'astronaut': 1503, 'other_book_club_member:': 1504, 'oils': 1505, 'parking': 1506, 'dive': 1507, 'brother-in-law': 1508, 'landlord': 1509, 'stationery': 1510, 'kidding': 1511, 'attitude': 1512, 'loser': 1513, 'milk': 1514, 'pitcher': 1515, 'rivalry': 1516, 'muertos': 1517, 'smitty:': 1518, \"nothin's\": 1519, 'anthony_kiedis:': 1520, 'stingy': 1521, 'cuff': 1522, 'ad': 1523, \"she'd\": 1524, 'beached': 1525, 'taxes': 1526, 'danny': 1527, 'physical': 1528, 'support': 1529, 'fausto': 1530, 'advertising': 1531, 'confession': 1532, 'plastered': 1533, 'novel': 1534, 'reserve': 1535, 'failed': 1536, 'suing': 1537, 'sheepish': 1538, 'somehow': 1539, \"fans'll\": 1540, \"today's\": 1541, 'dressing': 1542, 'harvey': 1543, 'forehead': 1544, 'chin': 1545, 'justice': 1546, 'day': 1547, 'her': 1548, 'ding-a-ding-ding-a-ding-ding': 1549, 'fuhgetaboutit': 1550, 'dollface': 1551, 'all': 1552, 'refreshment': 1553, \"changin'\": 1554, 'jam': 1555, 'klingon': 1556, 'booze': 1557, 'notorious': 1558, 'friendship': 1559, 'gasp': 1560, 'sneaky': 1561, 'holy': 1562, 'patron_#1:': 1563, 'startup': 1564, 'load': 1565, \"i'm-so-stupid\": 1566, 'drive': 1567, 'evil': 1568, 'pyramid': 1569, 'hops': 1570, 'tearfully': 1571, 'to': 1572, \"wasn't\": 1573, 'eventually': 1574, 'little': 1575, 'nose': 1576, 'hollowed-out': 1577, 'middle': 1578, 'fish': 1579, 'male_singers:': 1580, 'radioactive': 1581, \"professor's\": 1582, 'series': 1583, 'amid': 1584, 'blossoming': 1585, 'opening': 1586, 'skin': 1587, \"o'\": 1588, 'phone': 1589, 'rolls': 1590, 'incriminating': 1591, 'indicates': 1592, 'dumb-asses': 1593, 'dry': 1594, 'fanciest': 1595, 'tiger': 1596, 'changes': 1597, 'man_at_bar:': 1598, 'bears': 1599, \"phone's\": 1600, 'effects': 1601, 'world': 1602, 'yesterday': 1603, 'laws': 1604, 'boxer:': 1605, 'breaking': 1606, 'goldarnit': 1607, 'fixes': 1608, 'gunter:': 1609, 'voice_on_transmitter:': 1610, 'warmly': 1611, 'stripes': 1612, 'alternative': 1613, 'insecure': 1614, 'friends': 1615, 'thoughtfully': 1616, 'reciting': 1617, 'intakes': 1618, 'pleasure': 1619, 'bushes': 1620, 'text': 1621, 'limber': 1622, 'cappuccino': 1623, 'correct': 1624, 'whale': 1625, 'gator:': 1626, 'wow': 1627, 'disaster': 1628, 'whole': 1629, 'consulting': 1630, \"fallin'\": 1631, 'poured': 1632, 'nagurski': 1633, 'innocuous': 1634, 'sinkhole': 1635, 'we': 1636, 'explain': 1637, 'gunk': 1638, 'scum-sucking': 1639, 'ashamed': 1640, 'attempting': 1641, 'automobiles': 1642, 'flourish': 1643, 'sexual': 1644, 'martini': 1645, 'meditative': 1646, 'stares': 1647, 'sixteen': 1648, '_zander:': 1649, 'chug-monkeys': 1650, 'bold': 1651, 'symphonies': 1652, 'polenta': 1653, 'sharing': 1654, 'arts': 1655, 'sealed': 1656, 'chinese_restaurateur:': 1657, 'ironed': 1658, 'homeland': 1659, 'baby': 1660, 'alphabet': 1661, 'dunno': 1662, 'cheaper': 1663, 'serum': 1664, 'played': 1665, 'key': 1666, 'gear-head': 1667, 'especially': 1668, 'half-beer': 1669, 'chapstick': 1670, 'voodoo': 1671, 'recap:': 1672, 'fl': 1673, 'insured': 1674, 'beating': 1675, 'gives': 1676, 'loss': 1677, 'bike': 1678, 'nurse': 1679, 'tablecloth': 1680, 'watashi': 1681, \"coffee'll\": 1682, 'huggenkiss': 1683, 'benjamin:': 1684, 'sitcom': 1685, 'relationship': 1686, 'mouse': 1687, 'woman:': 1688, 'ride': 1689, 'may': 1690, 'super-nice': 1691, 'indignant': 1692, 'i': 1693, 'chateau': 1694, 'led': 1695, 'whoa': 1696, 'station': 1697, 'blinded': 1698, 'moon': 1699, 'lard': 1700, 'confidence': 1701, 'saving': 1702, 'trash': 1703, 'starlets': 1704, 'coherent': 1705, 'decency': 1706, 'brother': 1707, 'sure': 1708, 'disgraceful': 1709, 'view': 1710, 'abolish': 1711, 'hand': 1712, 'asses': 1713, 'reed': 1714, 'massive': 1715, 'cans': 1716, 'women': 1717, \"thing's\": 1718, 'pure': 1719, 'cueball': 1720, 'spied': 1721, 'send': 1722, 'horror': 1723, \"g'on\": 1724, 'easier': 1725, 'ball': 1726, '250': 1727, 'test-': 1728, 'donuts': 1729, 'porn': 1730, 'preparation': 1731, 'deadly': 1732, 'difference': 1733, 'politics': 1734, 'maiden': 1735, 'tv-station_announcer:': 1736, 'ourselves': 1737, 'pick': 1738, 'cost': 1739, 'chauffeur:': 1740, 'coal': 1741, 'whatchamacallit': 1742, 'impatient': 1743, 'in-in-in': 1744, 'pizzicato': 1745, 'putty': 1746, 'yee-ha': 1747, \"tootin'\": 1748, 'drawing': 1749, 'glitz': 1750, 'resigned': 1751, 'derisive': 1752, 'boyhood': 1753, 'shutup': 1754, 'nicer': 1755, 'tear': 1756, 'joke': 1757, 'slice': 1758, 'planned': 1759, 'fiiiiile': 1760, 'dr': 1761, 'nonchalant': 1762, 'abusive': 1763, 'innocent': 1764, 'mistresses': 1765, 'rid': 1766, 'seems': 1767, 'peppy': 1768, 'freaky': 1769, 'other': 1770, 'senators': 1771, 'capitalists': 1772, 'quality': 1773, 'demo': 1774, 'dea-d-d-dead': 1775, \"writin'\": 1776, 'join': 1777, 'trenchant': 1778, 'full': 1779, 'offer': 1780, 'jeez': 1781, 'clap': 1782, 'massage': 1783, 'six-barrel': 1784, 'hangs': 1785, 'theatah': 1786, 'cheap': 1787, \"fightin'\": 1788, 'file': 1789, 'die-hard': 1790, 'expensive': 1791, 'producers': 1792, 'ball-sized': 1793, 'negative': 1794, 'ale': 1795, 'celebrity': 1796, 'good': 1797, 'vin': 1798, 'showed': 1799, 'human': 1800, 'dan': 1801, 'passed': 1802, 'eye': 1803, 'paint': 1804, 'side': 1805, 'cocking': 1806, 'daaaaad': 1807, 'george': 1808, 'talked': 1809, \"i've\": 1810, 'radishes': 1811, 'heck': 1812, 'syrup': 1813, 'shack': 1814, 'register': 1815, 'hounds': 1816, 'brightening': 1817, 'jasper_beardly:': 1818, 'barney_gumble:': 1819, 'tow-joes': 1820, 'spot': 1821, 'phrase': 1822, 'only': 1823, 'joined': 1824, 'is:': 1825, 'whoo': 1826, 'ya': 1827, 'lucinda': 1828, 'guinea': 1829, 'unfortunately': 1830, 'nameless': 1831, 'trusted': 1832, 'house': 1833, 'bedbugs': 1834, 'painted': 1835, 'world-class': 1836, 'emphasis': 1837, 'watch': 1838, 'pointedly': 1839, 'as': 1840, \"stayin'\": 1841, 'ew': 1842, \"that's\": 1843, 'fevered': 1844, \"c'mon\": 1845, 'rich': 1846, 'cow': 1847, 'coat': 1848, 'stalking': 1849, 'rome': 1850, 'teams': 1851, 'manipulation': 1852, 'further': 1853, 'hits': 1854, 'recent': 1855, 'ripcord': 1856, 'movie': 1857, \"'morning\": 1858, 'transylvania': 1859, 'sanitary': 1860, 'snout': 1861, 'grim': 1862, 'dum-dum': 1863, 'bastard': 1864, 'perch': 1865, 'boozebag': 1866, 'hears': 1867, 'colonel:': 1868, 'powers': 1869, 'smug': 1870, 'snackie': 1871, 'k-zug': 1872, 'grammys': 1873, 'extract': 1874, 'washed': 1875, 'malibu': 1876, 'room': 1877, 'hawaii': 1878, 'grub': 1879, 'glorious': 1880, 'clearly': 1881, 'material': 1882, 'diets': 1883, 'nasty': 1884, 'wing': 1885, 'donut': 1886, 'meteor': 1887, 'appreciate': 1888, 'pressure': 1889, 'driver': 1890, 'cadillac': 1891, 'feminine': 1892, 'beaumont': 1893, 'treats': 1894, 'model': 1895, \"o'problem\": 1896, 'habit': 1897, 'mickey': 1898, 'coffee': 1899, 'blob': 1900, 'results': 1901, 'disappointed': 1902, 'kodos:': 1903, 'launch': 1904, 'creeps': 1905, 'reality': 1906, 'ummmmmmmmm': 1907, 'newsletter': 1908, 'focused': 1909, 'hitler': 1910, 'dingy': 1911, \"eatin'\": 1912, 'windshield': 1913, 'thanking': 1914, 'winnings': 1915, 'iddilies': 1916, 'ma': 1917, 'shard': 1918, 'disapproving': 1919, 'whatsit': 1920, 'address': 1921, 'thoughts': 1922, \"plaster's\": 1923, 'lucius': 1924, \"shan't\": 1925, 'for': 1926, 'speak': 1927, \"hole'\": 1928, 'cameras': 1929, 'fit': 1930, 'ollie': 1931, 'anti-lock': 1932, 'sumatran': 1933, 'old_jewish_man:': 1934, 'straight': 1935, 'trashed': 1936, 'turns': 1937, 'victim': 1938, 'how': 1939, 'detective_homer_simpson:': 1940, 'foibles': 1941, 'wins': 1942, 'glowers': 1943, 'exited': 1944, 'name:': 1945, 'bigger': 1946, 'x': 1947, 'hygienically': 1948, 'sits': 1949, 'grains': 1950, 'lobster-politans': 1951, 'honored': 1952, 'joking': 1953, 'anyway': 1954, 'quiet': 1955, 'cooler': 1956, '1979': 1957, 'cronies': 1958, 'get': 1959, 'normals': 1960, 'glen:': 1961, 'nickel': 1962, 'suppose': 1963, 'lisa_simpson:': 1964, 'mel': 1965, '70': 1966, 'f': 1967, 'k': 1968, 'jacques:': 1969, 'film': 1970, 'midge': 1971, 'who-o-oa': 1972, 'gasoline': 1973, 'running': 1974, 'portentous': 1975, 'astrid': 1976, 'stan': 1977, 'goo': 1978, '||left_parentheses||': 1979, 'host': 1980, 'mcstagger': 1981, 'omit': 1982, 'won': 1983, 'unsafe': 1984, 'savagely': 1985, 'tease': 1986, 'common': 1987, 'ordered': 1988, 'spelling': 1989, 'infor': 1990, 'afloat': 1991, 'hydrant': 1992, 'trapping': 1993, 'paris': 1994, 'fwooof': 1995, 'rub-a-dub': 1996, 'typed': 1997, \"won't\": 1998, 'bon': 1999, 'spite': 2000, \"beggin'\": 2001, 'stage': 2002, 'steely-eyed': 2003, 'mommy': 2004, 'wishes': 2005, 'original': 2006, 'shrugs': 2007, 'here-here-here': 2008, 'fellas': 2009, 'limericks': 2010, \"b-52's:\": 2011, 'wooooo': 2012, 'skinner': 2013, 'fox_mulder:': 2014, 'today/': 2015, \"isn't\": 2016, 'damned': 2017, 'missed': 2018, 'denver': 2019, 'he': 2020, 'carl': 2021, 'uh-huh': 2022, 'if': 2023, 'wha': 2024, 'shipment': 2025, 'corn': 2026, 'mumble': 2027, 'card': 2028, 'predecessor': 2029, \"collector's\": 2030, 'unbelievably': 2031, 'square': 2032, 'bar': 2033, 'twenty-six': 2034, 'civic': 2035, \"payin'\": 2036, 'calvin': 2037, 'lifts': 2038, 'grope': 2039, 'cousin': 2040, 'blood-thirsty': 2041, 'reaches': 2042, 'shrugging': 2043, 'koi': 2044, 'mid-seventies': 2045, 'shoot': 2046, 'open': 2047, 'points': 2048, 'benefits': 2049, 'look': 2050, 'studied': 2051, 'accounta': 2052, 'pretend': 2053, 'fighting': 2054, 'dreams': 2055, \"man's_voice:\": 2056, 'closing': 2057, 'david_byrne:': 2058, 'nobel': 2059, 'stairs': 2060, 'impeach': 2061, 'curious': 2062, 'rumaki': 2063, 'janette': 2064, 'poor': 2065, 'shhh': 2066, 'examples': 2067, 'scare': 2068, 'cops': 2069, 'hey': 2070, 'crew': 2071, 'winces': 2072, 'poorer': 2073, 'solid': 2074, 'character': 2075, \"family's\": 2076, 'agh': 2077, 'aerosmith': 2078, 'domestic': 2079, \"fine-lookin'\": 2080, 'insurance': 2081, 'assume': 2082, 'emotional': 2083, 'radical': 2084, 'crying': 2085, 'mr': 2086, 'investor': 2087, 'specializes': 2088, 'gesture': 2089, 'rummy': 2090, 'actors': 2091, 'oblivious': 2092, 'cheer': 2093, 'placed': 2094, 'louie:': 2095, 'literary': 2096, 'promised': 2097, 'unfamiliar': 2098, 'latour': 2099, 'wiggum': 2100, 'owe': 2101, \"hawkin'\": 2102, 's-a-u-r-c-e': 2103, 'universe': 2104, 'nightmare': 2105, 'temp': 2106, 'beady': 2107, 'natural': 2108, 'founded': 2109, 'bowled': 2110, 'winded': 2111, 'sister': 2112, 'contemptuous': 2113, 'designated': 2114, 'defiantly': 2115, 'sniffles': 2116, 'blur': 2117, 'ehhhhhhhh': 2118, 'snorts': 2119, \"kid's\": 2120, 'why': 2121, 'bras': 2122, \"mcstagger's\": 2123, 'perplexed': 2124, 'done:': 2125, 'perverted': 2126, 'bills': 2127, 'vance': 2128, 'talkers': 2129, 'easy-going': 2130, 'into': 2131, 'land': 2132, 'brothers': 2133, 'alibi': 2134, 'indeed': 2135, 'worthless': 2136, 'murdoch': 2137, 'pass': 2138, 'depressing': 2139, 'sadistic_barfly:': 2140, 'valley': 2141, 'pardon': 2142, 'lessee': 2143, 'splattered': 2144, 'ye': 2145, 'retired': 2146, 'aid': 2147, 'memory': 2148, 'threatening': 2149, 'presided': 2150, 'annual': 2151, 'liser': 2152, 'heartily': 2153, 'jerry': 2154, 'with': 2155, 'ears': 2156, 'formico': 2157, 'insensitive': 2158, 'alec_baldwin:': 2159, 'pas': 2160, 'manuel': 2161, 'cheesecake': 2162, 'banquet': 2163, 'mirror': 2164, 'sarcastic': 2165, 'betrayed': 2166, 'gees': 2167, 'science': 2168, 'nods': 2169, 'duh': 2170, 'like': 2171, 'hired': 2172, 'obsessive-compulsive': 2173, 'hero-phobia': 2174, 'mint': 2175, 'birthplace': 2176, 'reentering': 2177, 'distance': 2178, 'eddie': 2179, 'nascar': 2180, 'everyone': 2181, 'renee': 2182, 'braun:': 2183, 'ladder': 2184, \"blowin'\": 2185, 'keys': 2186, 'kick': 2187, 'agent': 2188, 'jeers': 2189, 'underpants': 2190, 'hideous': 2191, 'flashbacks': 2192, 'appropriate': 2193, 'sloe': 2194, 'presto:': 2195, 'verticality': 2196, 'examines': 2197, 'damage': 2198, 'windex': 2199, 'trivia': 2200, 'very': 2201, 'entire': 2202, 'delivery': 2203, 'water': 2204, 'ralph_wiggum:': 2205, 'said:': 2206, 'takes': 2207, 'exultant': 2208, 'absorbent': 2209, 'rom': 2210, 'plotz': 2211, 'kennedy': 2212, 'feeling': 2213, 'insulted': 2214, 'warily': 2215, 'excitement': 2216, 'bartenders': 2217, 'bursts': 2218, 'junior': 2219, 'eighty-six': 2220, 'chocolate': 2221, 'inserts': 2222, 'sixty': 2223, 'professor_jonathan_frink:': 2224, \"dimwit's\": 2225, 'supervising': 2226, 'scoffs': 2227, 'fritz:': 2228, 'wheels': 2229, 'achebe': 2230, 'few': 2231, 'poin-dexterous': 2232, 'generous': 2233, \"rasputin's\": 2234, 'updated': 2235, 'county': 2236, 'camera': 2237, \"toot's\": 2238, 'hook': 2239, 'patting': 2240, \"g'night\": 2241, 'kinds': 2242, \"choosin'\": 2243, 'of': 2244, 'worst': 2245, 'vestigial': 2246, 'teen': 2247, 'germans': 2248, 'ingredient': 2249, '10:15': 2250, 'contemporary': 2251, 'scientific': 2252, 'flaking': 2253, 'lighten': 2254, 'misfire': 2255, 'reserved': 2256, 'wrong': 2257, 'shoulders': 2258, 'notice': 2259, 'compliment': 2260, 'dan_gillick:': 2261, 'past': 2262, 'swimming': 2263, 'panties': 2264, 'propose': 2265, 'prize': 2266, 'sub-monkeys': 2267, 'recently': 2268, 'furniture': 2269, 'attached': 2270, 'jacques': 2271, 'throws': 2272, 'punches': 2273, 'doom': 2274, 'colossal': 2275, 'grow': 2276, 'alright': 2277, 'eating': 2278, 'ohh': 2279, \"tab's\": 2280, 'months': 2281, 'choke': 2282, 'girls': 2283, 'time': 2284, 'crow': 2285, 'backgammon': 2286, 'crack': 2287, 'appeals': 2288, 'mckinley': 2289, 'walther': 2290, 'counter': 2291, \"'ceptin'\": 2292, 'carl:': 2293, 'royal': 2294, 'judge': 2295, 'blade': 2296, 'cleveland': 2297, 'fist': 2298, 'problemo': 2299, 'woman_bystander:': 2300, 'maman': 2301, 'natured': 2302, 'byrne': 2303, 'inspection': 2304, 'stalin': 2305, 'perón': 2306, 'engine': 2307, 'cream': 2308, 'painless': 2309, 'punch': 2310, 'sisters': 2311, 'play/': 2312, 'who': 2313, 'popped': 2314, 'gossipy': 2315, 'scarf': 2316, 'payback': 2317, 'glamour': 2318, 'kids': 2319, 'emergency': 2320, 'sitting': 2321, 'dizzy': 2322, 'give': 2323, 'consoling': 2324, 'hall': 2325, 'nor': 2326, 'canyonero': 2327, 'vengeful': 2328, 'jailbird': 2329, 'combines': 2330, 'th-th-th-the': 2331, 'jerky': 2332, 'taunting': 2333, 'unable': 2334, 'gibson': 2335, 'beam': 2336, 'cheerier': 2337, 'shtick': 2338, 'guess': 2339, 'midnight': 2340, 'soul': 2341, \"daughter's\": 2342, 'koholic': 2343, 'touchdown': 2344, 'lindsay_naegle:': 2345, 'legally': 2346, 'self-esteem': 2347, 'zack': 2348, 'craphole': 2349, \"something's\": 2350, 'wish': 2351, 'spit-backs': 2352, 'entering': 2353, 'hibbert': 2354, 'spiritual': 2355, 'pregnancy': 2356, 'lowering': 2357, 'wangs': 2358, 'tells': 2359, 'stored': 2360, 'long': 2361, 'transmission': 2362, \"'bout\": 2363, 'freed': 2364, 'short_man:': 2365, 'lay': 2366, 'legs:': 2367, 'à': 2368, \"depressin'\": 2369, 'tv_husband:': 2370, 'attention': 2371, 'carny:': 2372, 'weeks': 2373, \"i-i'll\": 2374, 'brewed': 2375, 'holding': 2376, 'fink': 2377, 'alma': 2378, 'bachelorhood': 2379, 'act': 2380, 'man_with_tree_hat:': 2381, 'determined': 2382, 'padres': 2383, 'thoughtless': 2384, 'so-called': 2385, 'sweetheart': 2386, 'expression': 2387, 'be-stainèd': 2388, 'irishman': 2389, 'tree': 2390, 'almond': 2391, \"somethin's\": 2392, 'wind': 2393, 'suave': 2394, 'civilization': 2395, 'else': 2396, 'tired': 2397, 'ohmygod': 2398, 'wiener': 2399, 'dogs': 2400, 'allegiance': 2401, 'drop-off': 2402, 'close': 2403, 'nursemaid': 2404, 'shock': 2405, 'moron': 2406, 'stooges': 2407, 'thanksgiving': 2408, 'dazed': 2409, 'gas': 2410, 'raggie': 2411, 'breathtaking': 2412, 'good-looking': 2413, 'crowd:': 2414, 'oughtta': 2415, 'honor': 2416, 'committing': 2417, 'grey': 2418, \"treatin'\": 2419, 'op': 2420, 'young_marge:': 2421, 'that': 2422, 'larry': 2423, 'death': 2424, 'regret': 2425, 'oh-so-sophisticated': 2426, 'hurts': 2427, 'steaming': 2428, 'patriotic': 2429, 'latin': 2430, 'figure': 2431, 'shame': 2432, 'mustard': 2433, \"friend's\": 2434, 'vigilante': 2435, 'scrape': 2436, 'keeps': 2437, 'jack': 2438, 'night-crawlers': 2439, 'low': 2440, 'list': 2441, 'plums': 2442, 'majesty': 2443, 'welcome': 2444, 'index': 2445, 'embarrassed': 2446, 'tar-paper': 2447, 'veteran': 2448, 'easter': 2449, 'faith': 2450, 'machine': 2451, 'reunion': 2452, 'made': 2453, 'thighs': 2454, 'mexican_duffman:': 2455, 'sadly': 2456, 'restaurants': 2457, 'fabulous': 2458, 'jets': 2459, 'says': 2460, 'oughta': 2461, 'balloon': 2462, 'were': 2463, 'tire': 2464, 'pipe': 2465, 'habitrail': 2466, \"high-falutin'\": 2467, 'wishing': 2468, 'crotch': 2469, 'bolting': 2470, 'snail': 2471, 'desperately': 2472, 'players': 2473, 'hop': 2474, 'lead': 2475, 'sex': 2476, 'bible': 2477, 'hoo': 2478, 'democracy': 2479, \"england's\": 2480, 'pancakes': 2481, 'curiosity': 2482, 'necklace': 2483, 'known': 2484, 'andalay': 2485, 'urinal': 2486, 'probably': 2487, 'page': 2488, 'squabbled': 2489, 'sunny': 2490, 'rented': 2491, 'puff': 2492, \"men's\": 2493, 'touched': 2494, 'sweetly': 2495, \"show's\": 2496, 'customers': 2497, 'closer': 2498, 'remembers': 2499, 'naturally': 2500, 'match': 2501, 'cobra': 2502, 'cajun': 2503, 'disillusioned': 2504, 'blissful': 2505, 'bridges': 2506, 'glummy': 2507, 'filled': 2508, 'polite': 2509, 'trust': 2510, 'slap': 2511, 'gator': 2512, 'sec_agent_#1:': 2513, 'sympathy': 2514, 'masks': 2515, 'traitors': 2516, 'shaky': 2517, 'slaves': 2518, 'angry': 2519, 'eighty-five': 2520, 'charlie': 2521, 'rules': 2522, 'lately': 2523, 'foil': 2524, 'well-wisher': 2525, 'hang': 2526, 'nigeria': 2527, 'phlegm': 2528, 'pinchpenny': 2529, 'suburban': 2530, 'comedy': 2531, 'interrupting': 2532, 'e-z': 2533, 'el': 2534, 'beeps': 2535, 'searching': 2536, 'cyrano': 2537, \"burnin'\": 2538, 'ayyy': 2539, 'busy': 2540, 'boozehound': 2541, 'stole': 2542, 'full-blooded': 2543, 'howya': 2544, 'leftover': 2545, 'violations': 2546, 'olive': 2547, 'carl_carlson:': 2548, 'turn': 2549, 'measurements': 2550, 'event': 2551, 'harmony': 2552, 'paintings': 2553, 'commission': 2554, 'sunday': 2555, 'hard': 2556, 'badly': 2557, 'dance': 2558, 'drummer': 2559, 'muscle': 2560, 'gil_gunderson:': 2561, 'odor': 2562, 'twice': 2563, 'stirring': 2564, 'ivanna': 2565, 'grateful': 2566, 'mm-hmm': 2567, 'now': 2568, 'urban': 2569, 'marge_simpson:': 2570, \"buffalo's\": 2571, 'bitter': 2572, 'thirty': 2573, \"industry's\": 2574, 'breakfast': 2575, 'reconsidering': 2576, 'ticks': 2577, 'half-back': 2578, 'homeless': 2579, 'depository': 2580, 'bedroom': 2581, 'most:': 2582, 'crime': 2583, 'warranty': 2584, 'cause': 2585, 'unfresh': 2586, 'non-losers': 2587, \"readin'\": 2588, 'weary': 2589, 'waltz': 2590, 'these': 2591, 'splendid': 2592, \"kiddin'\": 2593, 'tastes': 2594, 'sobbing': 2595, 'sen': 2596, 'knocked': 2597, 'stood': 2598, 'sanitation': 2599, 'travel': 2600, 'xanders': 2601, 'togetherness': 2602, 'vote': 2603, 'smoothly': 2604, 'laney_fontaine:': 2605, 'located': 2606, 'undies': 2607, 'sent': 2608, 'noticing': 2609, 'could': 2610, 'sat-is-fac-tion': 2611, 'swear': 2612, 'doors': 2613, 'laid': 2614, 'boring': 2615, 'kicks': 2616, 'having': 2617, 'tempting': 2618, \"soundin'\": 2619, 'bright': 2620, \"secret's\": 2621, 'rancid': 2622, 'paying': 2623, 'mechanical': 2624, 'cherry': 2625, 'contented': 2626, 'bless': 2627, '||semicolon||': 2628, 'rather': 2629, 'themselves': 2630, 'eye-gouger': 2631, 'scam': 2632, 'driving': 2633, 'deer': 2634, 'sweater': 2635, 'statistician': 2636, 'sympathetic': 2637, 'sweeter': 2638, 'donut-shaped': 2639, 'awfully': 2640, \"marge's\": 2641, \"wouldn't\": 2642, 'rule': 2643, 'freely': 2644, 'forecast': 2645, 'duke': 2646, \"should've\": 2647, 'bartending': 2648, 'smelling': 2649, 'pantsless': 2650, 'immiggants': 2651, 'furiously': 2652, 'charity': 2653, 'brick': 2654, 'reynolds': 2655, 'arimasen': 2656, 'mac-who': 2657, 'helllp': 2658, 'champion': 2659, \"bart'd\": 2660, 'troy': 2661, 'earrings': 2662, 'courage': 2663, 'ooo': 2664, 'quarter': 2665, 'voice:': 2666, 'stuff': 2667, 'ten': 2668, 'live': 2669, 'tanking': 2670, 'harv:': 2671, 'advance': 2672, 'diving': 2673, 'breathless': 2674, 'protecting': 2675, 'connor': 2676, 'bidet': 2677, 'calls': 2678, 'whatcha': 2679, 'spoon': 2680, 'hail': 2681, 'sponsoring': 2682, 'space-time': 2683, 'actress': 2684, 'frankie': 2685, 'neil_gaiman:': 2686, 'virility': 2687, 'generously': 2688, 'sustain': 2689, \"'er\": 2690, 'suddenly': 2691, 'u': 2692, 'edna-lover-one-seventy-two': 2693, 'dame': 2694, 'date': 2695, 'ails': 2696, 'losers': 2697, 'lists': 2698, 'drawer': 2699, 'cocktail': 2700, 'enlightened': 2701, 'while': 2702, 'simplest': 2703, \"bartender's\": 2704, 'international': 2705, 'created': 2706, 'spending': 2707, 'rafters': 2708, 'pepto-bismol': 2709, '100': 2710, 'use': 2711, 'saucy': 2712, 'published': 2713, 'random': 2714, 'cockroach': 2715, 'roach': 2716, \"ya'\": 2717, 'gimmick': 2718, 'using': 2719, 'skoal': 2720, 'wayne': 2721, 'crappy': 2722, 'alive': 2723, 'tenuous': 2724, 'distinct': 2725, 'notably': 2726, 'halloween': 2727, 'seymour': 2728, 'jerking': 2729, 'obese': 2730, 'sagacity': 2731, 'measure': 2732, 'press': 2733, 'pushes': 2734, 'atlanta': 2735, 'adequate': 2736, 'deliberately': 2737, 'assumed': 2738, 'internet': 2739, 'worried': 2740, 'pre-columbian': 2741, 'boat': 2742, 'son': 2743, \"father's\": 2744, '-ry': 2745, 'sending': 2746, 'buddies': 2747, 'unusual': 2748, 'prank': 2749, \"can'tcha\": 2750, 'today': 2751, 'everything': 2752, 'raise': 2753, 'panicky': 2754, 'grunts': 2755, 'jesus': 2756, 'trucks': 2757, 'legoland': 2758, 'dateline:': 2759, 'inning': 2760, \"homer'll\": 2761, 'kidneys': 2762, 'falsetto': 2763, 'what-for': 2764, 'hairs': 2765, 'boned': 2766, 'piece': 2767, 'curse': 2768, 'window': 2769, 'regulars': 2770, 'without:': 2771, 'au': 2772, 'foodie': 2773, \"enjoyin'\": 2774, 'dealt': 2775, 'darjeeling': 2776, \"monroe's\": 2777, \"i'd'a\": 2778, 'lend': 2779, 'vulgar': 2780, 'plain': 2781, 'cab_driver:': 2782, \"fryer's\": 2783, 'believer': 2784, 'deep': 2785, 'surprising': 2786, \"mecca's\": 2787, 'grumpy': 2788, 'lager': 2789, 'letter': 2790, 'para': 2791, 'thank': 2792, 'lucky': 2793, 'chunky': 2794, 'helpful': 2795, 'drift': 2796, 'no': 2797, 'flips': 2798, 'serve': 2799, 'heh': 2800, 'boys': 2801, 'hm': 2802, 'denser': 2803, 'harm': 2804, 'lofty': 2805, 'such': 2806, 'chill': 2807, \"floatin'\": 2808, 'around': 2809, 'weirder': 2810, 'ireland': 2811, 'fbi': 2812, 'squirrels': 2813, 'cruiser': 2814, 'aquafresh': 2815, 'turning': 2816, 'sabermetrics': 2817, 'nailed': 2818, 'nope': 2819, 'dozen': 2820, 'fifteen': 2821, 'fixed': 2822, 'sleep': 2823, 'admitting': 2824, 'fun': 2825, \"foolin'\": 2826, 'counterfeit': 2827, 'moolah-stealing': 2828, 'make:': 2829, 'suits': 2830, 'you': 2831, 'swe-ee-ee-ee-eet': 2832, 'tick': 2833, 'spirit': 2834, 'thousand-year': 2835, 'knocks': 2836, 'plaintive': 2837, 'boyfriend': 2838, 'cotton': 2839, 'formico:': 2840, 'finale': 2841, 'mock-up': 2842, 'chest': 2843, 'seamstress': 2844, 'patron_#2:': 2845, 'here': 2846, 'beach': 2847, 'came': 2848, 'options': 2849, 'place': 2850, 'sobs': 2851, 'maxed': 2852, 'anybody': 2853, 'evils': 2854, 'fast-food': 2855, \"goin'\": 2856, 'anxious': 2857, 'activity': 2858, 'celeste': 2859, 'typing': 2860, 'speech': 2861, 'stays': 2862, 'christmas': 2863, 'plug': 2864, 'pizza': 2865, '||exclamation_mark||': 2866, 'along': 2867, 'less': 2868, 'i/you': 2869, 'maybe': 2870, 'concentrate': 2871, 'ice': 2872, \"wearin'\": 2873, 'taste': 2874, \"patrick's\": 2875, 'campaign': 2876, 'befouled': 2877, 'lovely': 2878, 'design': 2879, 'on': 2880, 'face': 2881, 'ditched': 2882, 'chipper': 2883, 'crowded': 2884, 'sprawl': 2885, 'lowest': 2886, 'comfortable': 2887, 'liven': 2888, 'pilsner-pusher': 2889, 'car': 2890, 'honey': 2891, 'thoughtful': 2892, 'officer': 2893, 'relaxed': 2894, 'east': 2895, 'so-ng': 2896, 'student': 2897, 'girl-bart': 2898, 'kisser': 2899, 'hidden': 2900, 'cursed': 2901, 'th': 2902, 'starla': 2903, 'gregor': 2904, 'sudden': 2905, 'wipe': 2906, 'forced': 2907, 'hooters': 2908, 'caper': 2909, 'suspenders': 2910, 'soft': 2911, 'quick': 2912, 'away': 2913, 'gulps': 2914, 'small': 2915, 'abcs': 2916, 'kent_brockman:': 2917, 'credit': 2918, 'mistakes': 2919, 'our': 2920, \"s'okay\": 2921, 'beatings': 2922, '6': 2923, \"didn't\": 2924, 'ambrose': 2925, 'cheaped': 2926, 'experience': 2927, 'hubub': 2928, 'told': 2929, 'eyed': 2930, 'the_edge:': 2931, 'pile': 2932, 'modest': 2933, 'believe': 2934, 'another': 2935, 'arabs': 2936, 'conditioners': 2937, 'score': 2938, 'elves:': 2939, 'fbi_agent:': 2940, 'cigarettes': 2941, 'steampunk': 2942, 'spouses': 2943, 'america': 2944, 'minute': 2945, 'fault': 2946, 'darkness': 2947, 'hardy': 2948, 'harvard': 2949, 'guessing': 2950, 'bubbles': 2951, 'future': 2952, 'groveling': 2953, 'swatch': 2954, 'slow': 2955, \"how'd\": 2956, 'naively': 2957, 'service': 2958, 'warned': 2959, \"can't-believe-how-bald-he-is\": 2960, 'aidens': 2961, 'bugs': 2962, 'gun': 2963, 'cheery': 2964, 'haikus': 2965, 'warn': 2966, '35': 2967, 'each': 2968, 'smallest': 2969, 'dumpster': 2970, 'peeping': 2971, 'hootie': 2972, 'learned': 2973, 'quietly': 2974, \"liftin'\": 2975, 'champs': 2976, 'scout': 2977, 'prefer': 2978, 'rookie': 2979, 'settles': 2980, 'luckiest': 2981, 'saturday': 2982, 'je': 2983, 'tester': 2984, 'espn': 2985, 'art': 2986, 'exhibit': 2987, \"stinkin'\": 2988, 'bury': 2989, 'beefs': 2990, 'loneliness': 2991, 'finger': 2992, 'it:': 2993, 'sweetest': 2994, 'limits': 2995, 'pained': 2996, 'profiling': 2997, 'fuss': 2998, 'beer': 2999, 'criminal': 3000, 'na': 3001, 'reckless': 3002, 'pub': 3003, 'before': 3004, 'woooooo': 3005, 'working': 3006, 'brandy': 3007, 'boxing': 3008, \"havin'\": 3009, 'lenny_leonard:': 3010, 'upsetting': 3011, 'prohibit': 3012, 'moans': 3013, 'pharmaceutical': 3014, 'maximum': 3015, 'pep': 3016, 'whining': 3017, 'encore': 3018, 'moesy': 3019, 'employees': 3020, 'ass': 3021, 'banned': 3022, 'thinking': 3023, 'coincidentally': 3024, 'suit': 3025, 'panicked': 3026, 'noggin': 3027, 'lainie:': 3028, 'tin': 3029, 'leprechaun': 3030, 'chauffeur': 3031, 'perverse': 3032, 'keeping': 3033, 'clone': 3034, 'telephone': 3035, 'divine': 3036, 'tapered': 3037, 'left': 3038, 'picky': 3039, 'naked': 3040, 'murderously': 3041, 'pink': 3042, 'wooden': 3043, \"shouldn't\": 3044, \"leavin'\": 3045, 'slurps': 3046, 'malfeasance': 3047, 'widow': 3048, 'ointment': 3049, 'cries': 3050, 'wiggle': 3051, 'minister': 3052, 'racially-diverse': 3053, 'fix': 3054, 'colorado': 3055, 'initially': 3056, 'buzziness': 3057, 'pointing': 3058, 'until': 3059, 'dropping': 3060, 'concerned': 3061, 'catholic': 3062, 'father': 3063, 'julep': 3064, 'sweden': 3065, 'detecting': 3066, 'wagering': 3067, 'soaking': 3068, 'wieners': 3069, 'scary': 3070, 'volunteer': 3071, 'boggs': 3072, 'want': 3073, 'cutest': 3074, 'fat': 3075, 'cards': 3076, 'drinker': 3077, 'perfunctory': 3078, 'naegle': 3079, 'layer': 3080, 'starving': 3081, 'tree_hoper:': 3082, 'proposing': 3083, 'sexy': 3084, 'poking': 3085, 'sniffing': 3086, \"mother's\": 3087, 'jane': 3088, 'lap': 3089, 'snake-handler': 3090, 'harvesting': 3091, 'delete': 3092, 'slaps': 3093, 'are': 3094, 'attracted': 3095, 'milhouse': 3096, 'improv': 3097, 'beaumarchais': 3098, 'love-matic': 3099, 'happy': 3100, 'robbers': 3101, 'deeper': 3102, 'turlet': 3103, 'sang': 3104, 'continued': 3105, \"spaghetti-o's\": 3106, 'forty-two': 3107, \"d'ya\": 3108, 'butterball': 3109, 'macgregor': 3110, 'cut': 3111, 'mind': 3112, 'hiring': 3113, 'doooown': 3114, 'stopped': 3115, 'lenford': 3116, 'hundreds': 3117, 'genuinely': 3118, 'product': 3119, 'someplace': 3120, 'oblongata': 3121, 'life-partner': 3122, 'vacations': 3123, 'bartholomé:': 3124, 'suspended': 3125, 'selma_bouvier:': 3126, 'washer': 3127, 'smiling': 3128, \"president's\": 3129, 'discussing': 3130, 'principal': 3131, 'getaway': 3132, 'streetcorner': 3133, 'chained': 3134, 'skunk': 3135, 'whiny': 3136, 'winston': 3137, 'macbeth': 3138, 'solved': 3139, 'giving': 3140, 'blaze': 3141, 'creature': 3142, 'unless': 3143, 'exhaust': 3144, 'much': 3145, 'simultaneous': 3146, 'jebediah': 3147, \"bashir's\": 3148, 'yellow': 3149, 'beanbag': 3150, 'estranged': 3151, 'needed': 3152, 'dad': 3153, 'tooth': 3154, \"world's\": 3155, 'oil': 3156, 'diet': 3157, 'foam': 3158, 'your': 3159, 'knife': 3160, 'pugilist': 3161, 'conditioning': 3162, 'crisis': 3163, 'and': 3164, 'floating': 3165, 'pirate': 3166, 'sickens': 3167, 'morose': 3168, 'brakes': 3169, 'billy_the_kid:': 3170, 'enjoyed': 3171, 'drinking:': 3172, 'specials': 3173, 'early': 3174, 'employment': 3175, \"doesn't\": 3176, 'right': 3177, 'pit': 3178, 'interesting': 3179, \"'n'\": 3180, 'intelligent': 3181, 'barkeep': 3182, 'chastity': 3183, 'poet': 3184, 'borrow': 3185, 'accept': 3186, 'ineffective': 3187, \"we'll\": 3188, 'offensive': 3189, 'beyond': 3190, 'shill': 3191, 'babar': 3192, 'pretty': 3193, 'fourteen:': 3194, 'dang': 3195, 'ruby-studded': 3196, 'test': 3197, 'answer': 3198, 'anti-intellectualism': 3199, 'pockets': 3200, \"tinklin'\": 3201, 'gruff': 3202, 'firmly': 3203, 'means': 3204, 'enemies': 3205, 'bar_rag:': 3206, 'mall': 3207, 'beer-dorf': 3208, 'book': 3209, 'imitating': 3210, 'called': 3211, 'shindig': 3212, 'poke': 3213, 'medical': 3214, 'peanut': 3215, 'stewart': 3216, 'mail': 3217, 'fonda': 3218, 'nuclear': 3219, 'thirty-thousand': 3220, 'wire': 3221, 'though:': 3222, 'way': 3223, 'willy': 3224, 'lady': 3225, 'steel': 3226, 'cheated': 3227, 'white_rabbit:': 3228, 'photo': 3229, 'behavior': 3230, 'continuum': 3231, 'menlo': 3232, 'sponsor': 3233, 'princess': 3234, \"cheerin'\": 3235, 'audience:': 3236, 'hour': 3237, 'hangover': 3238, 'allowance': 3239, 'polls': 3240, 'hooky': 3241, \"others'\": 3242, 'friend': 3243, 'kirk_voice_milhouse:': 3244, 'man': 3245, 'hunter': 3246, 'gore': 3247, 'waylon': 3248, 'wake': 3249, 'tries': 3250, 'rap': 3251, \"robbin'\": 3252, 'steam': 3253, 'agent_miller:': 3254, 'convenient': 3255, 'behind': 3256, 'lady-free': 3257, 'fan': 3258, 'woulda': 3259, 'tune': 3260, 'flames': 3261, 'snake': 3262, 'music': 3263, 'links': 3264, 'spacey': 3265, 'coined': 3266, 'hero': 3267, 'bono': 3268, 'burger': 3269, 'mayan': 3270, 'born': 3271, 'reporter:': 3272, 'neither': 3273, 'fortensky': 3274, \"bar's\": 3275, 'faulkner': 3276, 'homunculus': 3277, 'agnes_skinner:': 3278, 'thought': 3279, 'stained-glass': 3280, 'son-of-a': 3281, 'oddest': 3282, 'glum': 3283, 'considering': 3284, 'respect': 3285, 'sickened': 3286, \"scammin'\": 3287, 'triple-sec': 3288, 'single': 3289, 'about': 3290, 'mimes': 3291, 'all-star': 3292, 'edge': 3293, 'maya:': 3294, 'snapping': 3295, 'competing': 3296, 'jobs': 3297, 'button': 3298, 'banks': 3299, 'wacky': 3300, 'mess': 3301, 'winks': 3302, 'lying': 3303, 'roy': 3304, 'power': 3305, 'couch': 3306, 'highest': 3307, 'century': 3308, 'brainiac': 3309, 'geyser': 3310, 'bought': 3311, 'brilliant': 3312, 'busiest': 3313, 'conspiratorial': 3314, 'parasol': 3315, 'safer': 3316, 'shyly': 3317, 'adeleine': 3318, 'finance': 3319, \"time's\": 3320, 'fonzie': 3321, 'intention': 3322, 'gets': 3323, 'swan': 3324, 'pictured': 3325, 'career': 3326, 'st': 3327, 'enterprising': 3328, 'sees/': 3329, 'arm': 3330, 'presently': 3331, 'fires': 3332, 'incarcerated': 3333, 'booger': 3334, 'foot': 3335, 'always': 3336, \"dyin'\": 3337, 'lecture': 3338, 'personal': 3339, 'crowbar': 3340, 'yells': 3341, 'whistling': 3342, 'stops': 3343, 'slim': 3344, 'defensive': 3345, 'locklear': 3346, 'kahlua': 3347, 'enforced': 3348, \"mo'\": 3349, 'chew': 3350, 'pudgy': 3351, 'built': 3352, 'eightball': 3353, 'frog': 3354, 'bart': 3355, 'clams': 3356, 'noosey': 3357, 'dishonor': 3358, 'alter': 3359, 'stickers': 3360, 'all:': 3361, 'chick': 3362, 'stalwart': 3363, 'seek': 3364, \"doin'\": 3365, 'selective': 3366, \"bettin'\": 3367, 'backwards': 3368, 'throats': 3369, 'frogs': 3370, 'fdic': 3371, 'manfred': 3372, 'dig': 3373, '3': 3374, 'sponge:': 3375, 'mixed': 3376, 'young_moe:': 3377, 'tyson/secretariat': 3378, 'flame': 3379, 'least': 3380, 'tsking': 3381, \"tryin'\": 3382, 'golden': 3383, 'different': 3384, 'manager': 3385, 'turkey': 3386, 'guide': 3387, 'alfred': 3388, 'handwriting': 3389, 'saga': 3390, 'afternoon': 3391, 'compressions': 3392, 'cleaned': 3393, 'jackass': 3394, 'vulnerable': 3395, 'exclusive:': 3396, 'blocked': 3397, 'fantasy': 3398, 'butts': 3399, 'sidelines': 3400, 'tow-talitarian': 3401, 'hellhole': 3402, 'disturbance': 3403, 'fox': 3404, 'life:': 3405, 'patient': 3406, 'whim': 3407, 'then:': 3408, 'yuh-huh': 3409, 'safely': 3410, 'fireworks': 3411, 'e': 3412, 'make': 3413, 'charter': 3414, 'bite': 3415, 'groan': 3416, 'garbage': 3417, 'trustworthy': 3418, 'orgasmville': 3419, 'off': 3420, 'toy': 3421, \"rentin'\": 3422, 'hmmm': 3423, 'mexican': 3424, 'some': 3425, 'jams': 3426, 'beginning': 3427, 'curds': 3428, 'encouraged': 3429, 'blurbs': 3430, 'solely': 3431, 'call': 3432, \"swishifyin'\": 3433, 'nervous': 3434, 'break': 3435, 'duff_announcer:': 3436, \"tester's\": 3437, 'wiggle-frowns': 3438, 'device': 3439, 'monroe': 3440, 'looks': 3441, 'palmerston': 3442, 'ones': 3443, \"nixon's\": 3444, 'militia': 3445, 'manage': 3446, 'shirt': 3447, 'microbrew': 3448, 'labor': 3449, 'check': 3450, 'finally': 3451, 'hardhat': 3452, 'knives': 3453, 'procedure': 3454, 'clothespins': 3455, 'montrer': 3456, 'whaaa': 3457, 'santeria': 3458, 'decent': 3459, 'occasional': 3460, 'round': 3461, 'do': 3462, 'delivery_man:': 3463, \"america's\": 3464, 'rain': 3465, 'prettiest': 3466, 'lips': 3467, 'tender': 3468, 'woe:': 3469, 'sloppy': 3470, 'remains': 3471, 'branding': 3472, 'pinball': 3473, 'wolverines': 3474, 'jelly': 3475, \"nick's\": 3476, \"renee's\": 3477, 'pay': 3478, 'modern': 3479, \"raggin'\": 3480, 'listening': 3481, 'mice': 3482, 'wolfcastle': 3483, 'huh': 3484, 'twenty-five': 3485, \"showin'\": 3486, 'swelling': 3487, \"comin'\": 3488, 'worked': 3489, 'company': 3490, \"betsy'll\": 3491, 'twelveball': 3492, 'clothes': 3493, 'ignoring': 3494, 'kitchen': 3495, 'publishers': 3496, 'arms': 3497, 'excuses': 3498, 'ugliest': 3499, 'cerebral': 3500, 'itself': 3501, 'sampler': 3502, 'lousy': 3503, 'wrestling': 3504, 'brace': 3505, 'american': 3506, \"lovers'\": 3507, 'pip': 3508, 'medieval': 3509, \"narratin'\": 3510, 'any': 3511, 'purveyor': 3512, 'refund': 3513, 'yours': 3514, 'papa': 3515, 'joey_kramer:': 3516, 'housing': 3517, 'girlfriend': 3518, 'hotline': 3519, 'frenchman': 3520, 'favor': 3521, 'announcer:': 3522, 'half': 3523, 'pro': 3524, 'intimacy': 3525, 'watered-down': 3526, 'myself': 3527, 'steamed': 3528, \"football's\": 3529, 'walking': 3530, 'betcha': 3531, 'bleak': 3532, 'sale': 3533, 'los': 3534, 'chumbawamba': 3535, 'mcclure': 3536, 'moe': 3537, 'marriage': 3538, 'africanized': 3539, 'road': 3540, 'judge_snyder:': 3541, 'screws': 3542, 'minimum': 3543, 'tapestry': 3544, 'french': 3545, 'aged_moe:': 3546, 'gal': 3547, 'gruesome': 3548, 'hundred': 3549, 'crossed': 3550, 'pack': 3551, 'this': 3552, 'market': 3553, 'stab': 3554, 'number': 3555, 'radiator': 3556, 'lots': 3557, 'boston': 3558, 'hands': 3559, 'survive': 3560, 'wakede': 3561, 'birthday': 3562, 'poisoning': 3563, 'sounded': 3564, 'conference': 3565, 'pouring': 3566, 'lumpa': 3567, 'over-pronouncing': 3568, 'droning': 3569, 'night': 3570, 'gone': 3571, 'uniforms': 3572, 'happiness': 3573, 'safecracker': 3574, 'teenage_homer:': 3575, 'although': 3576, 'fresh': 3577, 'brooklyn': 3578, 'sees': 3579, 'excuse': 3580, 'wanted': 3581, 'pasta': 3582, 'nominated': 3583, 'hammy': 3584, 'plane': 3585, 'p-k': 3586, 'saw': 3587, 'pews': 3588, 'yards': 3589, 'tell': 3590, 'mean': 3591, 'ingrates': 3592, \"i'unno\": 3593, 'sometimes': 3594, 'gardens': 3595, 'candidate': 3596, \"sippin'\": 3597, 'churchy': 3598, \"s'pose\": 3599, 'smoke': 3600, 'sperm': 3601, 'laugh': 3602, 'replace': 3603, 'co-sign': 3604, 'parrot': 3605, 'ginger': 3606, 'jacksons': 3607, 'slugger': 3608, \"there's\": 3609, 'photos': 3610, 'club': 3611, 'ads': 3612, 'play': 3613, 'moustache': 3614, 'increasingly': 3615, 'raking': 3616, 'uses': 3617, 'patty': 3618, 'starts': 3619, 'cross-country': 3620, 'fainted': 3621, 'kay': 3622, 'quarry': 3623, 'chili': 3624, 'business': 3625, 'selection': 3626, 'simpson': 3627, 'therapy': 3628, 'floated': 3629, 'warm_female_voice:': 3630, 'every': 3631, 'bulletin': 3632, 'releasing': 3633, 'effervescent': 3634, 'bread': 3635, 'against': 3636, 'nbc': 3637, 'spellbinding': 3638, 'marmaduke': 3639, 'understood:': 3640, 'softer': 3641, \"lady's\": 3642, 'd': 3643, 'getcha': 3644, 'pussycat': 3645, 'circus': 3646, 'derek': 3647, 'bee': 3648, 'men:': 3649, 'eighty-three': 3650, 'roz': 3651, \"cont'd:\": 3652, 'numbers': 3653, 'dealer': 3654, 'stool': 3655, 'applesauce': 3656, 'artie_ziff:': 3657, 'snitch': 3658, 'dull': 3659, 'dinner': 3660, 'ziffcorp': 3661, 'pillows': 3662, \"linin'\": 3663, 'blood': 3664, 'bill_james:': 3665, 'crooks': 3666, 'yelling': 3667, 'tobacky': 3668, 'endorse': 3669, 'corner': 3670, 'frankly': 3671, 'len-ny': 3672, 'comforting': 3673, 'brotherhood': 3674, 'scrutinizing': 3675, 'ahhh': 3676, 'badmouths': 3677, 'exchange': 3678, 'tanked-up': 3679, 'okay': 3680, 'aer': 3681, 'source': 3682, 'nein': 3683, 'voyager': 3684, 'shelf': 3685, 'smile:': 3686, 'chorus:': 3687, 'passports': 3688, 'thorough': 3689, 'monster': 3690, 'ho-la': 3691, 'crippling': 3692, \"we'd\": 3693, 'edna_krabappel-flanders:': 3694, 'nature': 3695, 'she': 3696, 'sap': 3697, 'listen': 3698, 'started': 3699, 'lookalike:': 3700, 'gel': 3701, \"moe's\": 3702, 'audience': 3703, 'falling': 3704, 'glasses': 3705, 'eminence': 3706, 'dejected': 3707, 'malted': 3708, 'self-made': 3709, 'meyerhof': 3710, 'fool': 3711, 'laughter': 3712, 'down': 3713, 'renders': 3714, 'mither': 3715, 'confident': 3716, 'beverage': 3717, 'calling': 3718, 'gorgeous': 3719, 'adjust': 3720, 'fishing': 3721, 'quimby': 3722, 'milhouses': 3723, 'chum': 3724, 'ned': 3725, 'minors': 3726, 'selma': 3727, 'ghouls': 3728, 'satisfied': 3729, 'madison': 3730, 'juan': 3731, 'word': 3732, 'combine': 3733, 'earlier': 3734, 'cake': 3735, 'predictable': 3736, 'sixty-nine': 3737, 'pigs': 3738, 'jackpot-thief': 3739, 'temper': 3740, 'ruuuule': 3741, 'indecipherable': 3742, 'priority': 3743, 'itchy': 3744, 'meaningfully': 3745, 'ocean': 3746, \"team's\": 3747, 'slit': 3748, 'lipo': 3749, 'checking': 3750, 'television': 3751, 'regretful': 3752, 'hmm': 3753, 'sheriff': 3754, 'causes': 3755, 'them': 3756, 'chinese': 3757, 'taps': 3758, 'cowboys': 3759, 'restaurant': 3760, 'diablo': 3761, 'increased': 3762, \"tap-pullin'\": 3763, 'salary': 3764, 'joey': 3765, 'stengel': 3766, 'jury': 3767, 'sandwich': 3768, 'blowfish': 3769, 'puke-holes': 3770, 'junkyard': 3771, 'expert': 3772, 'wuss': 3773, 'push': 3774, 'robin': 3775, \"money's\": 3776, 'sound': 3777, 'week': 3778, 'bachelorette': 3779, 'used': 3780, 'ehhhhhh': 3781, 'admiration': 3782, 'flag': 3783, 'neighbors': 3784, 'frescas': 3785, 'seat': 3786, 'hearts': 3787, 'looser': 3788, \"cat's\": 3789, 'please/': 3790, 'illegal': 3791, 'title': 3792, 't-shirt': 3793, 'ends': 3794, \"we're\": 3795, 'pre-game': 3796, 'walks': 3797, 'mind-numbing': 3798, 'incredulous': 3799, 'public': 3800, 'thankful': 3801, 'forty-five': 3802, 'wearing': 3803, 'penny': 3804, 'coin': 3805, 'tight': 3806, 'strolled': 3807, 'du': 3808, 'gosh': 3809, 'declared': 3810, 'uhhhh': 3811, 'bleeding': 3812, 'decide:': 3813, 'lifestyle': 3814, 'metal': 3815, 'drag': 3816, 'finest': 3817, 'fellow': 3818, 'throw': 3819, 'kool': 3820, 'question': 3821, 'carney': 3822, 'sooo': 3823, 'wazoo': 3824, 'shark': 3825, 'whoever': 3826, 'prints': 3827, 'michael': 3828, 'fragile': 3829, \"it's\": 3830, 'lady_duff:': 3831, 'giant': 3832, 'aiden': 3833, 'awful': 3834, 'issues': 3835, 'met': 3836, 'weirded-out': 3837, 'browns': 3838, 'faced': 3839, \"that'd\": 3840, 'stats': 3841, 'nervously': 3842, 'upset': 3843, 'die': 3844, 'process': 3845, 'anger': 3846, 'rope': 3847, 'accidents': 3848, \"now's\": 3849, 'ton': 3850, 'territorial': 3851, 'clinton': 3852, 'grandmother': 3853, 'knows': 3854, 'agency': 3855, 'dignified': 3856, 'smiled': 3857, 'l': 3858, 'certainly': 3859, 'tasimeter': 3860, 'teacher': 3861, 'whoopi': 3862, 'all-american': 3863, 'opens': 3864, 'careful': 3865, 'one': 3866, 'peeved': 3867, 'gimme': 3868, 'supposed': 3869, 'rotch': 3870, 'coney': 3871, 'jolly': 3872, 'helen': 3873, 'imagine': 3874, 'inspired': 3875, 'express': 3876, 'aims': 3877, 'homer': 3878, 'sea': 3879, 'dirt': 3880, 'driveability': 3881, \"man's\": 3882, 'furious': 3883, 'businessman_#1:': 3884, 'steak': 3885, 'exquisite': 3886, 'sneering': 3887, 'hanging': 3888, 'contest': 3889, 'jay': 3890, 'adopted': 3891, 'way:': 3892, 'flew': 3893, 'seriously': 3894, 'eh': 3895, 'trees': 3896, \"buyin'\": 3897, 'gary:': 3898, 'greatest': 3899, 'bon-bons': 3900, 'sacrilicious': 3901, 'high': 3902, 'show-off': 3903, 'fair': 3904, 'thing': 3905, 'crowd': 3906, 'batmobile': 3907, 'ripper': 3908, 'terminated': 3909, 'dames': 3910, 'wears': 3911, \"calf's\": 3912, 'pronounce': 3913, 'schizophrenia': 3914, 'newspaper': 3915, 'applicant': 3916, 'schorr': 3917, 'straighten': 3918, 'popular': 3919, 'tears': 3920, 'wonderful': 3921, 'teenage_barney:': 3922, 'ha-ha': 3923, 'knew': 3924, 'paramedic:': 3925, 'brag': 3926, 'foundation': 3927, 'noise': 3928, 'frink': 3929, 'stripe': 3930, 'barely': 3931, 'raising': 3932, 'homer_simpson:': 3933, 'fills': 3934, 'proudly': 3935, 'apu': 3936, 'strawberry': 3937, 'shopping': 3938, 'european': 3939, \"boy's\": 3940, 'hello': 3941, 'grinch': 3942, 'hike': 3943, 'pointy': 3944, 'buried': 3945, 'farthest': 3946, 'stayed': 3947, 'mini-beret': 3948, 'lennyy': 3949, 'loyal': 3950, 'share': 3951, 'fringe': 3952, 'fica': 3953, \"town's\": 3954, 'four': 3955, 'thousand': 3956, 'massachusetts': 3957, 'voted': 3958, 'bail': 3959, 'lisa': 3960, 'twelve': 3961, 'making': 3962, 'helicopter': 3963, 'pope': 3964, 'rat': 3965, 'paparazzo': 3966, 'junebug': 3967, 'utility': 3968, 'ultimate': 3969, 'covering': 3970, 'rump': 3971, 'at': 3972, \"wallet's\": 3973, 'billiard': 3974, \"pressure's\": 3975, 'eww': 3976, 'belch': 3977, 'celebrities': 3978, \"'cause\": 3979, 'terror': 3980, 'cakes': 3981, \"people's\": 3982, 'gr-aargh': 3983, 'rugged': 3984, \"larry's\": 3985, 'michelin': 3986, 'filed': 3987, 'election': 3988, 'disco_stu:': 3989, 'shaved': 3990, 'stunned': 3991, 'shall': 3992, 'pond': 3993, 'americans': 3994, 'oopsie': 3995, \"'pu\": 3996, 'cool': 3997, 'envy-tations': 3998, 'lear': 3999, 'ga': 4000, 'squeals': 4001, 'lis': 4002, 'languages': 4003, 'recruiter': 4004, 'orifice': 4005, 'bliss': 4006, 'meaningless': 4007, 'alarm': 4008, \"elmo's\": 4009, 'burp': 4010, 'kickoff': 4011, 'trolls': 4012, 'hide': 4013, 'certificate': 4014, 'delightful': 4015, 'lime': 4016, 'kidney': 4017, 'tradition': 4018, 'lizard': 4019, 'nectar': 4020, 'continuing': 4021, 'stinky': 4022, 'shove': 4023, 'pretentious_rat_lover:': 4024, 'fever': 4025, 'watching': 4026, 'feminist': 4027, 'mike': 4028, 'term': 4029, \"snappin'\": 4030, 'shortcomings': 4031, 'last': 4032, 'dating': 4033, 'unusually': 4034, 'risqué': 4035, 'saint': 4036, 'hanh': 4037, 'mugs': 4038, 'sour': 4039, 'plant': 4040, 'dracula': 4041, 'conclude': 4042, 'writing': 4043, 'debonair': 4044, 'wells': 4045, 'direction': 4046, 'flat': 4047, 'luck': 4048, 'blackjack': 4049, 'senator': 4050, 'trade': 4051, 'partially': 4052, 'beneath': 4053, 'portuguese': 4054, \"who'da\": 4055, 'briefly': 4056, 'apply': 4057, 'mis-statement': 4058, 'pointless': 4059, 'leathery': 4060, 'homie': 4061, 'come': 4062, \"speakin'\": 4063, 'female_inspector:': 4064, 'exchanged': 4065, 'eve': 4066, 'hose': 4067, 'irs': 4068, 'contact': 4069, 'somebody': 4070, 'diamond': 4071, 'zoomed': 4072, 'ceremony': 4073, 'sequel': 4074, 'stealings': 4075, 'evasive': 4076, 'mexicans': 4077, 'bar:': 4078, 'great': 4079, 'harv': 4080, 'toys': 4081, \"'s\": 4082, 'dice': 4083, 'party': 4084, 'spitting': 4085, 'wine': 4086, 'extremely': 4087, 'gift:': 4088, \"i'll\": 4089, 'vegas': 4090, 'all-all-all': 4091, 'error': 4092, 'mater': 4093, 'handler': 4094, 'mumbling': 4095, 'badges': 4096, 'caholic': 4097, 'war': 4098, 'securities': 4099, \"they're\": 4100, 'gang': 4101, 'nonsense': 4102, 'yep': 4103, 'shot': 4104, 'andrew': 4105, 'shred': 4106, 'guilt': 4107, 'train': 4108, 'cologne': 4109, 'three-man': 4110, 'fancy': 4111, 'brunch': 4112, 'bathroom': 4113, 'hafta': 4114, 'lookalikes': 4115, 'smuggled': 4116, \"car's\": 4117, 'vanities': 4118, 'carve': 4119, \"lookin'\": 4120, 'i-i': 4121, 'canoodling': 4122, 'murmur': 4123, 'late': 4124, 'tapping': 4125, 'dough': 4126, 'effervescence': 4127, 'jewish': 4128, 'slogan': 4129, 'wussy': 4130, 'where': 4131, 'bragging': 4132, 'forgiven': 4133, 'likes': 4134, 'quadruple-sec': 4135, 'introduce': 4136, 'ground': 4137, 'frightened': 4138, 'program': 4139, 'heh-heh': 4140, 'highball': 4141, 'copy': 4142, 'odd': 4143, 'seething': 4144, 'rife': 4145, 'beers': 4146, 'ehhh': 4147, 'gallon': 4148, 'reopen': 4149, 'gold': 4150, 'longest': 4151, 'fight': 4152, 'bar-boy': 4153, 'impressed': 4154, 'yell': 4155, 'manatee': 4156, 'thirteen': 4157, 'snort': 4158, 'sky': 4159, 'hammock': 4160, 'hiya': 4161, 'matter-of-fact': 4162, 'remorseful': 4163, 'hoped': 4164, 'we-we-we': 4165, 'million': 4166, 'resist': 4167, 'insist': 4168, 'family-owned': 4169, 'doppler': 4170, 'cocoa': 4171, 'wondered': 4172, 'whisper': 4173, 'hearing': 4174, 'feel': 4175, 'clips': 4176, 'flustered': 4177, 'peach': 4178, '||dash||': 4179, 'koji': 4180, 'be': 4181, 'recommend': 4182, 'cletus_spuckler:': 4183, 'title:': 4184, 'asleep': 4185, 'friction': 4186, 'surgeonnn': 4187, 'victory': 4188, 'killing': 4189, 'vampires': 4190, 'bellyaching': 4191, 'replaced': 4192, 'hole': 4193, 'medicine': 4194, 'wasted': 4195, 'cola': 4196, \"other's\": 4197, 'brow': 4198, 'repeating': 4199, 'should': 4200, 'ratio': 4201, 'scream': 4202, 'vermont': 4203, 'kept': 4204, 'charge': 4205, 'his': 4206, 'beans': 4207, 'cheat': 4208, 'higher': 4209, 'countryman': 4210, 'challenge': 4211, 'lemonade': 4212, 'burns': 4213, 'sweet': 4214, 'recall': 4215, 'ivory': 4216, 'hoax': 4217, 'bleacher': 4218, 'compliments': 4219, 'costume': 4220, \"beer's\": 4221, 'equal': 4222, 'sir': 4223, 'wonder': 4224, 'offense': 4225, 'michael_stipe:': 4226, 'reptile': 4227, 'plywood': 4228, 'raining': 4229, 'four-star': 4230, 'badge': 4231, 'musical': 4232, 'reviews': 4233, 'or': 4234, 'rage': 4235, 'loves': 4236, 'knock': 4237, 'empty': 4238, 'buttocks': 4239, 'limited': 4240, 'larry:': 4241, 'gordon': 4242, 'avalanche': 4243, 'safe': 4244, 'spectacular': 4245, 'passes': 4246, 'blooded': 4247, 'yew': 4248, 'traditions': 4249, 'defected': 4250, 'capuchin': 4251, 'ninth': 4252, 'holiday': 4253, 'diaper': 4254, 'hillbillies': 4255, \"wonderin'\": 4256, 'label': 4257, 'ways': 4258, 'homesick': 4259, 'hiding': 4260, 'romance': 4261, 'moe-clone:': 4262, 'idiot': 4263, 'go': 4264, 'bubbles-in-my-nose-y': 4265, 'nickels': 4266, 'anti-crime': 4267, 'woman': 4268, 'fourth': 4269, 'protestantism': 4270, 'mole': 4271, 'stay-puft': 4272, 'chicks': 4273, 'owned': 4274, 'smile': 4275, 'versus': 4276, \"don'tcha\": 4277, 'everybody': 4278, 'microwave': 4279, 'giggles': 4280, 'fast-paced': 4281, 'managed': 4282, 'spews': 4283, 'pause': 4284, 'hunger': 4285, 'involved': 4286, 'expecting': 4287, 'growing': 4288, 'splash': 4289, 'meant': 4290, \"someone's\": 4291, \"costume's\": 4292, 'putting': 4293, \"'em\": 4294, 'bring': 4295, 'dramatic': 4296, \"poisonin'\": 4297, 'indifferent': 4298, 'not': 4299, 'breakdown': 4300, 'lorre': 4301, 'insightful': 4302, 'filthy': 4303, 'ron': 4304, 'sassy': 4305, 'felt': 4306, 'resenting': 4307, 'point': 4308, 'flophouse': 4309, \"springfield's\": 4310, 'handling': 4311, 'churchill': 4312, 'bird': 4313, 'did': 4314, 'arrange': 4315, 'pledge': 4316, 'admirer': 4317, 'nelson_muntz:': 4318, 'tomahto': 4319, 'ding-a-ding-ding-ding-ding-ding-ding': 4320, 'clincher': 4321, 'had': 4322, 'fletcherism': 4323, 'mafia': 4324, 'scum': 4325, 'king': 4326, 'cookies': 4327, \"knockin'\": 4328, 'indigenous': 4329, 'hare-brained': 4330, 'marjorie': 4331, 'carpet': 4332, 'drivers': 4333, 'appointment': 4334, 'loudly': 4335, 'depressant': 4336, 'kid': 4337, 'cozies': 4338, 'mention': 4339, 'encouraging': 4340, 'suds': 4341, 'não': 4342, 'roll': 4343, 'hurting': 4344, 'dead': 4345, 'pleased': 4346, 'catch-phrase': 4347, 'taught': 4348, 'hers': 4349, 'bachelor': 4350, 'signed': 4351, 'presses': 4352, 'fighter': 4353, 'ducked': 4354, 'bitterly': 4355, \"they'd\": 4356, 'jamaican': 4357, 'game': 4358, 'poulet': 4359, 'fatty': 4360, 'lemme': 4361, 'fraud': 4362, 'chase': 4363, \"department's\": 4364, 'crystal': 4365, 'academy': 4366, 'lights': 4367, 'squad': 4368, 'dungeon': 4369, \"number's\": 4370, 'lib': 4371, 'also': 4372, 'laughing': 4373, 'occurred': 4374, 'lotsa': 4375, \"somethin':\": 4376, 'hug': 4377, 'bed': 4378, 'richard:': 4379, '2': 4380, \"ma's\": 4381, 'wrap': 4382, 'dime': 4383, 'annoyed': 4384, 'egg': 4385, 'ferry': 4386, 'professor': 4387, 'corpses': 4388, 'rats': 4389, 'which': 4390, \"tv'll\": 4391, 'wait': 4392, 'narrator:': 4393, 'krusty_the_clown:': 4394, 'feld': 4395, 'menace': 4396, 'deserve': 4397, 'bash': 4398, 'potatoes': 4399, 'connor-politan': 4400, 'simpsons': 4401, 'carolina': 4402, 'kissingher': 4403, 'feelings': 4404, 'would': 4405, 'clench': 4406, 'roses': 4407, 'leans': 4408, 'big': 4409, 'bucks': 4410, 'ping-pong': 4411, 'diddilies': 4412, 'kako:': 4413, 'kyoto': 4414, 'chips': 4415, 'watered': 4416, 'faded': 4417, 'souvenir': 4418, 'handle': 4419, 'lord': 4420, \"meanin'\": 4421, 'string': 4422, 'cupid': 4423, 'annoying': 4424, 'lose': 4425, \"she'll\": 4426, 'cough': 4427, 'slight': 4428, 'hotel': 4429, 'winning': 4430, 'hoping': 4431, 'whaaaa': 4432, 'snotty': 4433, 'movies': 4434, 'next': 4435, 'firing': 4436, 'doing': 4437, 'my-y-y-y-y-y': 4438, \"you'll\": 4439, 'bags': 4440, 'stomach': 4441, 'easygoing': 4442, 'clock': 4443, 'lessons': 4444, 'williams': 4445, 'inclination': 4446, 'sometime': 4447, 'hot': 4448, 'ford': 4449, 'buffet': 4450, 'writers': 4451, 'column': 4452, 'pre-recorded': 4453, 'divorced': 4454, 'soot': 4455, 'distraught': 4456, 'hemoglobin': 4457, 'ignorance': 4458, 'maher': 4459, 'doy': 4460, 'sober': 4461, \"'your\": 4462, 'infestation': 4463, 'tenor:': 4464, 'duel': 4465, 'mouths': 4466, 'dennis': 4467, 'addiction': 4468, 'makes': 4469, 'flying': 4470, 'rag': 4471, 'angel': 4472, 'neighboreeno': 4473, 'troy:': 4474, 'tokens': 4475, 'sidekick': 4476, 'heading': 4477, 'looking': 4478, 'caught': 4479, 'mines': 4480, 'town': 4481, 'shoes': 4482, 'snotball': 4483, 'grumbling': 4484, 'five': 4485, 'publish': 4486, 'fondest': 4487, 'invulnerable': 4488, 'fail': 4489, 'bush': 4490, 'bono:': 4491, 'playing': 4492, 'sold': 4493, 'refiero': 4494, 'sorts': 4495, 'appealing': 4496, 'iranian': 4497, 'yammering': 4498, 'i-i-i': 4499, 'church': 4500, 'california': 4501, 'smoker': 4502, 'beings': 4503, 'wigs': 4504, 'schedule': 4505, 'blame': 4506, 'cushions': 4507, 'paid': 4508, 'refresh': 4509, 'stay': 4510, 'awareness': 4511, 'killarney': 4512, 'something:': 4513, 'tall': 4514, 'when': 4515, 'chairman': 4516, 'errrrrrr': 4517, 'cage': 4518, 'kind': 4519, 'flailing': 4520, 'dreamed': 4521, 'broke': 4522, 'radio': 4523, \"he'll\": 4524, 'seymour_skinner:': 4525, 'bad': 4526, 'rueful': 4527, 'teriyaki': 4528, 'dump': 4529, 'grandé': 4530, 'piling': 4531, 'nerd': 4532, 'bum:': 4533, 'heads': 4534, 'fistiana': 4535, 'walther_hotenhoffer:': 4536, 'item': 4537, \"washin'\": 4538, 'little_man:': 4539, 'course': 4540, 'obama': 4541, 'mrs': 4542, 'figures': 4543, 'flanders': 4544, 'peanuts': 4545, 'instrument': 4546, 'unavailable': 4547, 'best': 4548, 'bride': 4549, 'mate': 4550, 'arrived': 4551, 'occurrence': 4552, 'earpiece': 4553, 'burt_reynolds:': 4554, 'jernt': 4555, 'anyhoo': 4556, 'haplessly': 4557, 'nightmares': 4558, 'attractive_woman_#2:': 4559, 'elephants': 4560, 'center': 4561, 'whispers': 4562, 'buddy': 4563, 'jacks': 4564, 'destroyed': 4565, 'uncomfortable': 4566, \"pullin'\": 4567, 'legs': 4568, 'ralph': 4569, 'boxing_announcer:': 4570, 'level': 4571, 'never': 4572, \"man'd\": 4573, 'chain': 4574, 'referee': 4575, 'sleeping': 4576, 'brought': 4577, 'children': 4578, 'wantcha': 4579, 'faces': 4580, 'ze-ro': 4581, 'compadre': 4582, 'listens': 4583, \"tonight's\": 4584, 'rem': 4585, 'coyly': 4586, 'sets': 4587, 'conclusions': 4588, 'nine': 4589, 'potato': 4590, 'novelty': 4591, 'department': 4592, 'cracked': 4593, 'prompting': 4594, 'computer_voice_2:': 4595, 'talk': 4596, 'childless': 4597, 'shades': 4598, 'chubby': 4599, 'photographer': 4600, 'charged': 4601, 'nordiques': 4602, 'cheerleaders:': 4603, \"countin'\": 4604, 'flaming': 4605, 'morlocks': 4606, \"getting'\": 4607, 'karaoke_machine:': 4608, 'carlotta:': 4609, 'thumb': 4610, 'frontrunner': 4611, 'biggest': 4612, 'planted': 4613, 'karaoke': 4614, 'brings': 4615, 'cheapskates': 4616, 'scotch': 4617, 'renew': 4618, 'fella': 4619, 'nick': 4620, 'two-thirds-empty': 4621, 'walked': 4622, 'understand': 4623, 'helpless': 4624, 'mcbain': 4625, 'sauce': 4626, 'whatever': 4627, 'glove': 4628, 'but': 4629, 'drinks': 4630, 'deacon': 4631, 'booth': 4632, 'tolerance': 4633, 'totally': 4634, 'dancing': 4635, 'ominous': 4636, 'kearney_zzyzwicz:': 4637, 'through': 4638, 'moment': 4639, \"'roids\": 4640, 'mm': 4641, 'grenky': 4642, \"fendin'\": 4643, 'b-day': 4644, 'kisses': 4645, 'barbara': 4646, \"drinkin'\": 4647, 'mouth': 4648, 'dean': 4649, 'consciousness': 4650, 'worldview': 4651, \"somethin'\": 4652, 'aside': 4653, \"disrobin'\": 4654, 'emporium': 4655, 'island': 4656, 'treasure': 4657, 'stir': 4658, 'undated': 4659, 'testing': 4660, 'octa-': 4661, 'bannister': 4662, 'two-drink': 4663, 'ahem': 4664, 'fork': 4665, 'tropical': 4666, 'changing': 4667, 'donated': 4668, 'overturned': 4669, 'completely': 4670, 'optimistic': 4671, 'holds': 4672, 'pats': 4673, 'artie': 4674, 'moonnnnnnnn': 4675, 'plum': 4676, 'rest': 4677, 'across': 4678, 'weak': 4679, 'killer': 4680, 'er': 4681, 'gayer': 4682, 'penmanship': 4683, 'stadium': 4684, 'alcoholic': 4685, 'turned': 4686, 'barber': 4687, 'mug': 4688, 'surprised': 4689, \"dog's\": 4690, 'clearing': 4691, 'hugh': 4692, 'deeply': 4693, 'shows': 4694, 'dictator': 4695, 'rip-off': 4696, 'age': 4697, 'pissed': 4698, 'therefore': 4699, 'starting': 4700, 'step': 4701, 'hopeful': 4702, 'ooh': 4703, 'me': 4704, 'promise': 4705, 'hank_williams_jr': 4706, 'bulldozing': 4707, 'goblins': 4708, 'despite': 4709, 'babe': 4710, 'wrote': 4711, 'squeal': 4712, 'enthusiasm': 4713, 'sensitivity': 4714, 'child': 4715, 'sooner': 4716, 'attractive': 4717, 'affection': 4718, 'artist': 4719, 'mop': 4720, 'goods': 4721, 'family': 4722, 'tracks': 4723, 'dammit': 4724, 'injury': 4725, 'barn': 4726, 'pigtown': 4727, 'unsourced': 4728, 'sucking': 4729, 'far': 4730, 'too': 4731, 'know': 4732, 'care': 4733, 'sticking': 4734, 'mccarthy': 4735, 'twelve-step': 4736, 'protesting': 4737, 'throat': 4738, 'country-fried': 4739, 'nothing': 4740, 'nibble': 4741, 'anonymous': 4742, 'dee-fense': 4743, 'designer': 4744, 'silence': 4745, 'graveyard': 4746, 'reflected': 4747, 'awww': 4748, 'perfume': 4749, 'might': 4750, 'toasting': 4751, 'trench': 4752, 'try': 4753, 'payments': 4754, 'sudoku': 4755, 'new_health_inspector:': 4756, 'almost': 4757, 'whup': 4758, 'proves': 4759, \"here's\": 4760, 'fiction': 4761, 'dimly': 4762, 'civil': 4763, 'crab': 4764, 'phase': 4765, 'philosophic': 4766, 'door': 4767, \"waitin'\": 4768, 'speaking': 4769, 'salvation': 4770, 'illustrates': 4771, 'adjourned': 4772, \"crawlin'\": 4773, 'problems': 4774, 'pulling': 4775, 'sense': 4776, 'woodchucks': 4777, 'pursue': 4778, 'kick-ass': 4779, 'advice': 4780, 'tomorrow': 4781, 'forty-seven': 4782, 'de-scramble': 4783, 'edna': 4784, \"maggie's\": 4785, 'build': 4786, 'squeezed': 4787, 'read': 4788, 'took': 4789, 'celebration': 4790, 'laramie': 4791, 'alva': 4792, 'white': 4793, 'hearse': 4794, 'eighty-seven': 4795, 'hunka': 4796, 'afraid': 4797, 'lock': 4798, 'jazz': 4799, 'uh-oh': 4800, 'bronco': 4801, 'booking': 4802, 'bashir': 4803, 'say': 4804, 'delivery_boy:': 4805, 'saying': 4806, 'handshake': 4807, 'please': 4808, \"donatin'\": 4809, 'wham': 4810, 'ease': 4811, 'tha': 4812, 'slyly': 4813, 'pulled': 4814, 'red': 4815, \"y'money's\": 4816, 'apron': 4817, \"brady's\": 4818, 'rub': 4819, 'restless': 4820, '||question_mark||': 4821, 'courthouse': 4822, 'casual': 4823, 'patrons': 4824, \"how's\": 4825, 'precious': 4826, 'recreate': 4827, 'ear': 4828, 'kansas': 4829, 'draw': 4830, 'dash': 4831, 'bill': 4832, 'gay': 4833, 'arguing': 4834, 'bet': 4835, 'writer:': 4836, 'albeit': 4837, 'quite': 4838, 'considers': 4839, 'occupancy': 4840, 'aunt': 4841, 'endorsed': 4842, 'begins': 4843, 'brassiest': 4844, 'jerk-ass': 4845, 'forgive': 4846, 'majority': 4847, 'better': 4848, \"who's\": 4849, 'finishing': 4850, \"workin'\": 4851, 'gimmicks': 4852, 'greedy': 4853, 'wants': 4854, 'specific': 4855, 'seven': 4856, 'privacy': 4857, 'funds': 4858, 'compete': 4859, 'law-abiding': 4860, 'creepy': 4861, 'waist': 4862, 'newsweek': 4863, 'dinks': 4864, 'gifts': 4865, 'poker': 4866, 'shop': 4867, 'bobo': 4868, 'overhearing': 4869, 'seen': 4870, 'days': 4871, 'pays': 4872, 'cat': 4873, 'think': 4874, 'dreamy': 4875, \"murphy's\": 4876, 'upgrade': 4877, \"'now\": 4878, 'chub': 4879, 'skinheads': 4880, 'food': 4881, 'loud': 4882, 'playful': 4883, 'theater': 4884, 'arse': 4885, 'annus': 4886, 'popping': 4887, 'maintenance': 4888, 'parents': 4889, 'othello': 4890, 'hilarious': 4891, 'group': 4892, 'gasps': 4893, 'hyahh': 4894, 'practice': 4895, 'wanna': 4896, 'application': 4897, 'newsies': 4898, 'blimp': 4899, 'cooker': 4900, 'delts': 4901, 'krusty': 4902, 'richer': 4903, 'bullet-proof': 4904, \"o'clock\": 4905, 'lurleen': 4906, 'authorized': 4907, 'heartless': 4908, 'amazed': 4909, 'yeah': 4910, 'louder': 4911, 'wistful': 4912, 'operation': 4913, 'still': 4914, 'non-american': 4915, 'atari': 4916, 'plenty': 4917, 'doll': 4918, \"smokin'_joe_frazier:\": 4919, 'awe': 4920, 'enhance': 4921, 'nigel_bakerbutcher:': 4922, 'marshmallow': 4923, 'collapse': 4924, 'liability': 4925, 'rhyme': 4926, 'secrets': 4927, 'nerve': 4928, 'jeff': 4929, 'lise:': 4930, 'flack': 4931, 'show': 4932, 'swine': 4933, 'fake': 4934, 'orphan': 4935, 'eleven': 4936, \"what'd\": 4937, \"i'd\": 4938, 'appalled': 4939, 'am': 4940, 'reminds': 4941, 'hospital': 4942, 'drank': 4943, 'interested': 4944, 'har': 4945, 'hugh:': 4946, 'wildfever': 4947, 'polishing': 4948, 'conversations': 4949, \"cashin'\": 4950, 'neighborhood': 4951, 'prejudice': 4952, 'singers:': 4953, 'authenticity': 4954, 'tv_father:': 4955, 'frink-y': 4956, 'ought': 4957, 'tang': 4958, 'mortal': 4959, \"don't\": 4960, 'magazine': 4961, '_montgomery_burns:': 4962, 'choose': 4963, 'large': 4964, 'fell': 4965, 'crowned': 4966, 'candy': 4967, 'refreshingness': 4968, 'ab': 4969, 'ruin': 4970, 'helps': 4971, 'parked': 4972, 'apartment': 4973, 'hooch': 4974, 'african': 4975, 'mansions': 4976, 'and-and': 4977, 'thought_bubble_lenny:': 4978, 'tap': 4979, 'impress': 4980, 'super-tough': 4981, 'billingsley': 4982, 'decision': 4983, 'henry': 4984, 'back': 4985, 'liar': 4986, 'solo': 4987, 'bathtub': 4988, 'fluoroscope': 4989, 'w-a-3-q-i-zed': 4990, 'cavern': 4991, 'virtual': 4992, 'quebec': 4993, 'carey': 4994, 'homer_doubles:': 4995, 'cannot': 4996, 'slick': 4997, 'wad': 4998, 'during': 4999, 'loved': 5000, 'mt': 5001, 'grave': 5002, 'squirrel': 5003, 'living': 5004, 'vacation': 5005, 'recipe': 5006, 'quick-like': 5007, 'glad': 5008, 'expose': 5009, \"round's\": 5010, 'funny': 5011, 'fortress': 5012, 'hah': 5013, 'picked': 5014, 'aerospace': 5015, \"shootin'\": 5016, 'stupidly': 5017, 'festival': 5018, 'touch': 5019, 'assistant': 5020, 'ripping': 5021, 'mediterranean': 5022, 'bonding': 5023, \"duff's\": 5024, 'calmly': 5025, 'haws': 5026, 'kenny': 5027, 'gargoyle': 5028, 'hosting': 5029, 'principles': 5030, '_burns_heads:': 5031, \"sittin'\": 5032, 'hear': 5033, 'specified': 5034, \"'cept\": 5035, 'horrors': 5036, 'bottle': 5037, 'düff': 5038, 'mount': 5039, \"ball's\": 5040, 'system': 5041, 'youse': 5042, \"everyone's\": 5043, 'specialists': 5044, 'restroom': 5045, 'yee-haw': 5046, 'navy': 5047, 'however': 5048, 'lazy': 5049, \"doctor's\": 5050, 'locked': 5051, 'unjustly': 5052, 'wheeeee': 5053, \"starla's\": 5054, 'chief': 5055, \"kearney's_dad:\": 5056, 'palm': 5057, 'attack': 5058, 'produce': 5059, 'planning': 5060, 'seductive': 5061, 'dashes': 5062, 'creates': 5063, 'image': 5064, 'gamble': 5065, 'lied': 5066, 'crimes': 5067, 'shuts': 5068, 'app': 5069, 'hmmmm': 5070, \"listenin'\": 5071, \"lenny's\": 5072, 'nigerian': 5073, 'brockman': 5074, 'crowds': 5075, 'herself': 5076, 'spend': 5077, 'legal': 5078, 'samples': 5079, 'ape-like': 5080, 'refreshing': 5081, 'gut': 5082, 'drederick': 5083, 'suru': 5084, 'explanation': 5085, 'take-back': 5086, 'died': 5087, 'became': 5088, 'fountain': 5089, 'tail': 5090, 'learn': 5091, 'quarterback': 5092, 'buttons': 5093, 'served': 5094, 'chanting': 5095, 'whatchacallit': 5096, 'grain': 5097, 'cap': 5098, 'ho-ly': 5099, 'important': 5100, 'customers-slash-only': 5101, 'permanent': 5102, 'handed': 5103, 'based': 5104, 'tonic': 5105, 'aghast': 5106, 'young_barfly:': 5107, 'contemplated': 5108, 'complaining': 5109, '1-800-555-hugs': 5110, 'cocks': 5111, 'blows': 5112, 'pickle': 5113, 'spotting': 5114, 'bagged': 5115, \"they've\": 5116, 'state': 5117, 'argue': 5118, 'wish-meat': 5119, 'stick': 5120, 'exciting': 5121, 'rapidly': 5122, 'fumigated': 5123, 'felony': 5124, 'instantly': 5125, 'oak': 5126, 'consider': 5127, 'caveman': 5128, 'start': 5129, 'refinanced': 5130, 'waters': 5131, 'kiss': 5132, 'clown': 5133, 'kidnaps': 5134, 'shelbyville': 5135, 'advertise': 5136, 'ali': 5137, 'real': 5138, 'danish': 5139, 'savvy': 5140, 'pen': 5141, \"could've\": 5142, 'picnic': 5143, 'moe_szyslak:': 5144, 'twenty-nine': 5145, 'heals': 5146, 'unison': 5147, 'wolveriskey': 5148, 'sales': 5149, 'local': 5150, 'marched': 5151, 'treat': 5152, \"hangin'\": 5153, 'their': 5154, 'zeal': 5155, 'tidy': 5156, 'thawing': 5157, 'trainers': 5158, 'above': 5159, 'fireball': 5160, 'man:': 5161, 'blown': 5162, 'christian': 5163, 'freeze': 5164, 'after': 5165, 'being': 5166, 'easily': 5167, 'leave': 5168, 'leno': 5169, 'hurt': 5170, 'teacup': 5171, 'loboto-moth': 5172, 'gotta': 5173, \"yieldin'\": 5174, 'heavens': 5175, 'u2:': 5176, 'liver': 5177, 'again': 5178, 'nudge': 5179, \"what's\": 5180, 'rush': 5181, 'investigating': 5182, 'africa': 5183, 'punkin': 5184, 'nantucket': 5185, 'rude': 5186, 'true': 5187, 'together': 5188, 'weep': 5189, 'is': 5190, 'lawyer': 5191, 'police': 5192, 'scientists': 5193, 'slot': 5194, 'minutes': 5195, 'shrieks': 5196, 'jer': 5197, 'smell': 5198, 'teenage_bart:': 5199, 'heatherton': 5200, 'cutie': 5201, 'works': 5202, 'womb': 5203, 'cecil_terwilliger:': 5204, 'uncreeped-out': 5205, 'shoo': 5206, 'kramer': 5207, 'later': 5208, 'stupid': 5209, 'uninhibited': 5210, 'fatso': 5211, \"jackpot's\": 5212, 'vacuum': 5213, \"moe's_thoughts:\": 5214, 'stranger:': 5215, 'oh-ho': 5216, 'bit': 5217, 'inches': 5218, 'eyeball': 5219, 'booze-bags': 5220, 'whistles': 5221, 'computer': 5222, 'buds': 5223, 'inspector': 5224, 'degradation': 5225, 'cleaner': 5226, 'crawl': 5227, 'ken:': 5228, 'grade': 5229, 'looooooooooooooooooong': 5230, '7g': 5231, \"weren't\": 5232, 'email': 5233, 'soup': 5234, \"coaster's\": 5235, 'matter': 5236, 'cuz': 5237, 'summer': 5238, 'staying': 5239, 'miracle': 5240, 'self-satisfied': 5241, 'uneasy': 5242, 'exact': 5243, 'skinny': 5244, 'tsk': 5245, 'suspiciously': 5246, 'instead': 5247, 'savings': 5248, 'ripped': 5249, 'sincere': 5250, 'caricature': 5251, 'season': 5252, 'sell': 5253, 'wikipedia': 5254, 'flea:': 5255, 'raises': 5256, 'jaegermeister': 5257, 'jimmy': 5258, 'grin': 5259, 'spit': 5260, 'weapon': 5261, 'exception:': 5262, 'grammar': 5263, 'joint': 5264, 'quitcher': 5265, 'congratulations': 5266, \"poundin'\": 5267, 'spy': 5268, 'mix': 5269, 'femininity': 5270, 'cure': 5271, 'unlike': 5272, 'sniffs': 5273, 'reaching': 5274, 'things': 5275, 'tax': 5276, 'banquo': 5277, 'grrrreetings': 5278, 'visas': 5279, 'outside': 5280, 'spoken': 5281, \"wino's\": 5282, 'getup': 5283, 'stinks': 5284, 'sweat': 5285, 'hi': 5286, 'carmichael': 5287, 'body': 5288, \"couldn't\": 5289, 'goodbye': 5290, 'craft': 5291, 'name': 5292, 'kindly': 5293, 'sob': 5294, 'rutabaga': 5295, 'end': 5296, 'none': 5297, 'sticker': 5298, 'elmer': 5299, 'fire': 5300, 'beat': 5301, 'brusque': 5302, 'watched': 5303, 'candles': 5304, 'dictating': 5305, 'simp-sonnnn': 5306, 'swell': 5307, 'adrift': 5308, 'mabel': 5309, 'quero': 5310, 'yard': 5311, \"it'd\": 5312, 'bank': 5313, 'don': 5314, 'dress': 5315, 'tank': 5316, 'beast': 5317, 'sixty-five': 5318, 'socratic': 5319, 'dangerous': 5320, 'states': 5321, 'edner': 5322, 'tasty': 5323, 'rabbits': 5324, 'aziz': 5325, 'korea': 5326, 'nash': 5327, 'tremendous': 5328, 'repay': 5329, 'open-casket': 5330, 'onassis': 5331, 'prince': 5332, 'grab': 5333, 'socialize': 5334, 'buffalo': 5335, 'depressed': 5336, 'protesters': 5337, 'fury': 5338, 'head': 5339, 'god': 5340, 'knowingly': 5341, 'displeased': 5342, 'scene': 5343, 'bupkus': 5344, '/mr': 5345, 'sanctuary': 5346, 'must': 5347, 'clenched': 5348, 'snake_jailbird:': 5349, 'handoff': 5350, \"c'mere\": 5351, 'unhook': 5352, 'husband': 5353, '_babcock:': 5354, 'mamma': 5355, 'telling': 5356, 'rainier': 5357, 'strips': 5358, 'discuss': 5359, 'lame': 5360, 'barney-guarding': 5361, 'strangles': 5362, 'crushed': 5363, 'seas': 5364, 'praise': 5365, 'carll': 5366, 'barflies:': 5367, 'scram': 5368, 'desperate': 5369, 'gig': 5370, 'naval': 5371, '_kissingher:': 5372, 'incognito': 5373, \"i-i'm\": 5374, 'insults': 5375, 'race': 5376, 'polygon': 5377, 'waking-up': 5378, 'misconstrue': 5379, 'padre': 5380, 'nail': 5381, 'eyeballs': 5382, 'crazy': 5383, 'stonewall': 5384, 'sail': 5385, 'trick': 5386, 'intrigued': 5387, 'twentieth': 5388, 'gentle': 5389, 'pills': 5390, 'pine': 5391, 'bones': 5392, 'same': 5393, 'intervention': 5394, 'compromise:': 5395, 'amanda': 5396, 'understood': 5397, \"he'd\": 5398, 'looting': 5399, 'issuing': 5400, 'win': 5401, 'salad': 5402, 'weather': 5403, 'depending': 5404, 'figured': 5405, 'feisty': 5406, 'yes': 5407, \"idea's\": 5408, 'lindsay': 5409, 'champ': 5410, 'pointed': 5411, 'heaven': 5412, 'micronesian': 5413, 'maya': 5414, 'breathalyzer': 5415, 'murdered': 5416, 'loaded': 5417, 'smurfs': 5418, 'blubberino': 5419, 'sincerely': 5420, 'strap': 5421, 'additional-seating-capacity': 5422, 'shakespeare': 5423, 'hate-hugs': 5424, 'hollye': 5425, 'stock': 5426, 'meeting': 5427, 'thrown': 5428, 'backward': 5429, 'albert': 5430, 'fudd': 5431, 'dies': 5432, 'texas': 5433, 'poplar': 5434, \"smokin'\": 5435, 'beep': 5436, 'david': 5437, 'sideshow_bob:': 5438, 'force': 5439, 'belts': 5440, 'parenting': 5441, \"city's\": 5442, 'duffed': 5443, 'mic': 5444, 'spits': 5445, 'ivy-covered': 5446, 'dark': 5447, 'marvin': 5448, 'life-extension': 5449, 'irish': 5450, '21': 5451, 'showing': 5452, 'hollywood': 5453, 'manchego': 5454, 'libraries': 5455, 'religion': 5456, 'nah': 5457, 'cushion': 5458, \"bringin'\": 5459, 'book_club_member:': 5460, 'scornful': 5461, 'guttural': 5462, 'dressed': 5463, 'action': 5464, 'moe_recording:': 5465, \"wouldn't-a\": 5466, 'beloved': 5467, 'sun': 5468, 'apart': 5469, 'run': 5470, 'neat': 5471, \"tomorrow's\": 5472, 'brain': 5473, 'isotopes': 5474, 'slays': 5475, 'strategizing': 5476, 'eggs': 5477, \"singin'\": 5478, 'venture': 5479, 'loathe': 5480, 'forward': 5481, 'streetlights': 5482, 'refill': 5483, 'skeptical': 5484, 'comeback': 5485, 'cliff': 5486, 'data': 5487, 'intriguing': 5488, 'happened': 5489, '||right_parentheses||': 5490, 'excited': 5491, 'ninety-six': 5492, 'fifty': 5493, 'right-handed': 5494, 'windelle': 5495, 'possessions': 5496, 'unearth': 5497, 'kinda': 5498, 'rusty': 5499, 'pepsi': 5500, 'flash': 5501, 'sodas': 5502, 'teach': 5503, 'terrible': 5504, 'muslim': 5505, 'sniper': 5506, 'notch': 5507, 'hippies': 5508, 'groin': 5509, 'sack': 5510, 'lot': 5511, 'hunky': 5512, 'afford': 5513, \"puttin'\": 5514, 'fall': 5515, 'neon': 5516, 'videotaped': 5517, 'killed': 5518, 'liable': 5519, 'judgments': 5520, 'delicate': 5521, 'chow': 5522, 'santa': 5523, 'lowers': 5524, 'diapers': 5525, 'stirrers': 5526, 'priceless': 5527, 'intruding': 5528, 'ecru': 5529, 'spender': 5530, 'detective': 5531, 'john': 5532, 'actor': 5533, 'donor': 5534, 'swig': 5535, 'a-a-b-b-a': 5536, 'reading': 5537, 'tiny': 5538, 'coy': 5539, 'held': 5540, 'guest': 5541, 'shifty': 5542, 'nuked': 5543, 'severe': 5544, 'nap': 5545, 'rhode': 5546, 'stretches': 5547, 'sec_agent_#2:': 5548, 'toss': 5549, 'tied': 5550, 'hub': 5551, 'brockelstein': 5552, 'neck': 5553, 'scratcher': 5554, 'hemorrhage-amundo': 5555, 'squeeze': 5556, 'generosity': 5557, 'hottest': 5558, 'pantry': 5559, 'tonight': 5560, 'fustigate': 5561, 'victorious': 5562, 'certified': 5563, 'ragtime': 5564, 'weight': 5565, 'andy': 5566, 'cowboy': 5567, 'choice': 5568, 'mister': 5569, \"that'll\": 5570, \"aristotle's\": 5571, 'bust': 5572, \"santa's\": 5573, \"tv's\": 5574, 'monkeyshines': 5575, 'demand': 5576, 'dignity': 5577, 'doubt': 5578, 'speed': 5579, \"dad's\": 5580, 'snaps': 5581, 'needs': 5582, 'twin': 5583, 'fictional': 5584, 'cop': 5585, 'tomato': 5586, 'coupon': 5587, 'pull': 5588, 'gabriel:': 5589, 'heavyweight': 5590, 'lovejoy': 5591, 'donate': 5592, 'hitchhike': 5593, 'miles': 5594, 'opportunity': 5595, 'choice:': 5596, 'nice': 5597, 'seats': 5598, 'jubilant': 5599, 'collette:': 5600, 'conversation': 5601, 'shoulda': 5602, 'both': 5603, 'recorded': 5604, 'iran': 5605, 'committee': 5606, 'cold': 5607, 'acquaintance': 5608, 'vincent': 5609, 'binoculars': 5610, 'a-lug': 5611, 'rotten': 5612, 'sneak': 5613, 'lone': 5614, 'will': 5615, 'famous': 5616, 'hates': 5617, 'coach:': 5618, 'ho': 5619, 'irrelevant': 5620, \"son's\": 5621, 'elite': 5622, 'football_announcer:': 5623, 'presidents': 5624, 'mulder': 5625, 'mob': 5626, \"how're\": 5627, 'rubs': 5628, 'people': 5629, \"brockman's\": 5630, 'heart': 5631, \"messin'\": 5632, 'three': 5633, 'sing-song': 5634, 'shaker': 5635, 'noises': 5636, 'drapes': 5637, 'encores': 5638, 'awkwardly': 5639, 'eyes': 5640, 'dumb': 5641, 'jukebox_record:': 5642, 'pour': 5643, 'favorite': 5644, 'muttering': 5645, 'improved': 5646, 'totalitarians': 5647, 'see': 5648, 'agree': 5649, 'moe-clone': 5650, 'unattended': 5651, 'greetings': 5652, 'taken': 5653, 'monorails': 5654, 'bits': 5655, 'anyone': 5656, 'busted': 5657, 'lushmore': 5658, 'whee': 5659, 'puke': 5660, 'able': 5661, \"we've\": 5662, 'bindle': 5663, 'weekly': 5664, 'waitress': 5665, 'new': 5666, 'forget-me-shot': 5667, 'investment': 5668, 'attraction': 5669, 'yellow-belly': 5670, 'ladies': 5671, 'multiple': 5672, 'lenses': 5673, 'daddy': 5674, \"dolph's_dad:\": 5675, 'focus': 5676, 'represent': 5677, 'disgrace': 5678, 'moonlight': 5679, 'conditioner': 5680, 'present': 5681, 'dank': 5682, 'without': 5683, 'facebook': 5684, 'wreck': 5685, 'fierce': 5686, 'eaten': 5687, \"bein'\": 5688, 'smithers': 5689, 'avenue': 5690, 'alcohol': 5691, 'heliotrope': 5692, 'switch': 5693, 'eco-fraud': 5694, 'four-drink': 5695, 'james': 5696, 'declan_desmond:': 5697, 'schnapps': 5698, 'pusillanimous': 5699, 'singing/pushing': 5700, 'paints': 5701, 'it': 5702, 'village': 5703, 'traffic': 5704, 'boy': 5705, 'gheet': 5706, 'murmurs': 5707, 'birth': 5708, 'modestly': 5709, 'riveting': 5710, 'butt': 5711, 'test-lady': 5712, 'payday': 5713, 'nuts': 5714, 'presentable': 5715, 'in': 5716, 'rolling': 5717, 'louse': 5718, 'tab': 5719, 'pontiff': 5720, 'mock': 5721, 'appear': 5722, 'considering:': 5723, 'tigers': 5724, 'taking': 5725, 'health_inspector:': 5726, 'horribilis': 5727, 'desire': 5728, 'follow': 5729, 'moonshine': 5730, 'everyday': 5731, 'fastest': 5732, 'thirsty': 5733, 'frazier': 5734, 'erasers': 5735, 'contractors': 5736, 'beard': 5737, 'grease': 5738, 'emotion': 5739, 'extended': 5740, 'its': 5741, 'bowie': 5742, \"tellin'\": 5743, 'judges': 5744, 'soaked': 5745, 'terrific': 5746, 'field': 5747, \"pope's\": 5748, \"wait'll\": 5749, 'thirty-three': 5750, 'psst': 5751, 'tatum': 5752, 'tabooger': 5753, 'shoots': 5754, 'yogurt': 5755, 'bauer': 5756, 'devils:': 5757, 'correction': 5758, 'cartoons': 5759, 'dutch': 5760, 'barney-type': 5761, 'alky': 5762, 'guys': 5763, 'marry': 5764, 'partners': 5765, 'type': 5766, 'morning-after': 5767, 'box': 5768, 'sunk': 5769, 'example': 5770, 'patented': 5771, 'dynamite': 5772, 'wudgy': 5773, 'outs': 5774, 'swallowed': 5775, 'horns': 5776, 'heave-ho': 5777, 'appreciated': 5778, 'older': 5779, 'troubles': 5780, 'fuzzlepitch': 5781, \"d'\": 5782, 'elder': 5783, 'broom': 5784, \"liberty's\": 5785, 'chug-a-lug': 5786, 'senators:': 5787, 'polish': 5788, 'advantage': 5789, 'country': 5790, 'government': 5791, 'blend': 5792, 'lou': 5793, 'kwik-e-mart': 5794, 'explaining': 5795, 'pages': 5796, 'duff': 5797, 'shout': 5798, 'luckily': 5799, 'forty': 5800, 'first': 5801, 'burglary': 5802, 'reactions': 5803, 'anymore': 5804, 'hourly': 5805, 'loan': 5806, 'lifters': 5807, 'mmmm': 5808, 'moe-near-now': 5809, 'nearly': 5810, 'toward': 5811, 'shreda': 5812, 'jay:': 5813, 'unintelligent': 5814, 'o': 5815, 'unexplained': 5816, 'granted': 5817, 'absolut': 5818, 'buddha': 5819, 'hammer': 5820, 'license': 5821, \"barney's\": 5822, 'society_matron:': 5823, 'motto': 5824, 'windowshade': 5825, 'stiffening': 5826, 'piano': 5827, 'kings': 5828, 'wrecking': 5829, 'faiths': 5830, 'teeth': 5831, 'stagey': 5832, 'strain': 5833, 'complicated': 5834, 'answers': 5835, 'mellow': 5836, 'buyer': 5837, 'hateful': 5838, 'wade_boggs:': 5839, 'mitts': 5840, 'troy_mcclure:': 5841, 'labels': 5842, '&': 5843, 'asked': 5844, 'super': 5845, 'connection': 5846, \"squeezin'\": 5847, 'beats': 5848, 'short': 5849, 'attractive_woman_#1:': 5850, 'chuck': 5851, 'awed': 5852, 'my': 5853, 'trying': 5854, 'strongly': 5855, 's': 5856, 'passion': 5857, 'front': 5858, 'kermit': 5859, 'playhouse': 5860, 'hell': 5861, 'extra': 5862, \"y'see\": 5863, 'delicately': 5864, 'bites': 5865, 'dishrag': 5866, 'tolerable': 5867, 'awesome': 5868, 'youuu': 5869, 'trunk': 5870, 'musketeers': 5871, 'championship': 5872, 'legend': 5873, 'telemarketing': 5874, 'tentative': 5875, 'funeral': 5876, 'groans': 5877, 'bars': 5878, 'yet': 5879, 'let': 5880, 'juke': 5881, 'shorter': 5882, 'sitar': 5883, \"you've\": 5884, 'wash': 5885, 'little_hibbert_girl:': 5886, 'thrust': 5887, 'sadder': 5888, 'alley': 5889, 'knowing': 5890, 'ruined': 5891, 'lush': 5892, 'wise': 5893, 'muffled': 5894, 'prime': 5895, 'when-i-get-a-hold-of-you': 5896, 'upn': 5897, 'saget': 5898, 'deals': 5899, 'mostly': 5900, 'kang:': 5901, 'memories': 5902, 'compels': 5903, 'smiles': 5904, 'understanding': 5905, 'ask': 5906, 'billboard': 5907, 'idealistic': 5908, 'feat': 5909, 'amends': 5910, 'tough': 5911, 'found': 5912, 'pall': 5913, 'amnesia': 5914, \"watchin'\": 5915, 'classy': 5916, 'reward': 5917, 'statesmanlike': 5918, 'bathing': 5919, 'disappointing': 5920, 'stands': 5921, 'color': 5922, 'crayon': 5923, 'jumps': 5924, 'ventriloquism': 5925, 'crinkly': 5926, 'tv_announcer:': 5927, 'closet': 5928, 'sport': 5929, 'dislike': 5930, '4x4': 5931, 'al_gore:': 5932, 'sagely': 5933, 'choices': 5934, 'jigger': 5935, 'newly-published': 5936, 'boneheaded': 5937, 'pint': 5938, 'jack_larson:': 5939, 'snow': 5940, 'prizefighters': 5941, 'sticking-place': 5942, \"hadn't\": 5943, 'pair': 5944, 'laney': 5945, 'creme': 5946, 'twenty-four': 5947, 'park': 5948, 'barney': 5949, 'dismissive': 5950, 'correcting': 5951, 'actually': 5952, 'goes': 5953, 'jackson': 5954, 'sexton': 5955, 'losing': 5956, 'total': 5957, 'bedtime': 5958, 'outlook': 5959, 'reach': 5960, 'yourselves': 5961, 'comic': 5962, 'icelandic': 5963, 'workers': 5964, 'charges': 5965, 'allowed': 5966, 'boxcar': 5967, 'glee': 5968, 'exits': 5969, 'complaint': 5970, 'deal': 5971, 'items': 5972, 'though': 5973, 'mona_simpson:': 5974, 'brunswick': 5975, 'cloudy': 5976, 'dennis_conroy:': 5977, 'leak': 5978, 'done': 5979, 'bad-mouth': 5980, 'job': 5981, 'hooked': 5982, 'moon-bounce': 5983, 'accepting': 5984, 'lucius:': 5985, 'bartender': 5986, 'jail': 5987, 'hotenhoffer': 5988, 'occupation': 5989, 'cab': 5990, 'sacrifice': 5991, 'owns': 5992, 'broken:': 5993, 'gentleman:': 5994, 'corporation': 5995, 'glitterati': 5996, 'brown': 5997, 'finished': 5998, 'cup': 5999, 'complete': 6000, 'boozer': 6001, 'tipsy': 6002, 'rocks': 6003, 'cannoli': 6004, 'unbelievable': 6005, 'tuborg': 6006, 'suicide': 6007, 'remaining': 6008, 'brains': 6009, 'linda': 6010, 'boxcars': 6011, 'gags': 6012, 'average': 6013, 'meal': 6014, 'canyoner-oooo': 6015, 'spread': 6016, 'bums': 6017, 'gumbel': 6018, 'ashtray': 6019, 'fry': 6020, 'upbeat': 6021, 'spine': 6022, 'jovial': 6023, 'umm': 6024, 'dials': 6025, 'friend:': 6026, 'muscles': 6027, 'except': 6028, 'stumble': 6029, 'sorry': 6030, 'street': 6031, 'year': 6032, 'broken': 6033, 'wordloaf': 6034, 'guard': 6035, 'achem': 6036, 'marguerite:': 6037, 'mother': 6038, 'fine': 6039, 'outta': 6040, \"ladies'\": 6041, 'bets': 6042, 'inquiries': 6043, '2nd_voice_on_transmitter:': 6044, 'bowling': 6045, 'mailbox': 6046, 'scent': 6047, 'placing': 6048, 'raccoons': 6049, 'hushed': 6050, 'mini-dumpsters': 6051, 'nitwit': 6052, 'blow': 6053, 'pain': 6054, 'so': 6055, 'incredible': 6056, 'surprised/thrilled': 6057, 'merchants': 6058, 'singer': 6059, 'elocution': 6060, 'stretch': 6061, 'b': 6062, 'network': 6063, 'law': 6064, \"'topes\": 6065, 'broad': 6066, 'slapped': 6067, 'lighter': 6068, 'wolfe': 6069, 'si-lent': 6070, 'temple': 6071, 'kegs': 6072, 'ling': 6073, 'cooking': 6074, 'lance': 6075, 'mayor_joe_quimby:': 6076, 'horrified': 6077, 'vehicle': 6078, 'admiring': 6079, 'cecil': 6080, 'sledge-hammer': 6081, 'premise': 6082, 'poem': 6083, 'blinds': 6084, 'grandiose': 6085, 'swooning': 6086, 'ruint': 6087, 'helping': 6088, 'eu': 6089, 'trapped': 6090, 'case': 6091, 'beligerent': 6092, 'starla:': 6093, 'tip': 6094, 'relieved': 6095, 'bender:': 6096, 'shooting': 6097, 'cats': 6098, 'defeated': 6099, 'exploiter': 6100, 'customer': 6101, 'rewound': 6102, 'sleeps': 6103, 'belt': 6104, 'sign': 6105, 'sugar-free': 6106, 'youth': 6107, 'chipped': 6108, 'really': 6109, 'remember': 6110, 'baloney': 6111, 'slobbo': 6112, 'shares': 6113, 'throwing': 6114, 'düffenbraus': 6115, 'mystery': 6116, 'butter': 6117, 'scatter': 6118, 'ronstadt': 6119, 'balls': 6120, 'breaks': 6121, 'november': 6122, 'wasting': 6123, \"drawin'\": 6124, \"what'sa\": 6125, 'abandon': 6126, 'scared': 6127, 'spare': 6128, 'stand': 6129, 'chance': 6130, 'button-pusher': 6131, 'by': 6132, 'cover': 6133, 'dropped': 6134, 'screams': 6135, 'religious': 6136, 'wrestle': 6137, \"thinkin'\": 6138, 'shoe': 6139, 'forget-me-drinks': 6140, 'oooo': 6141, 'swimmers': 6142, 'jerk': 6143, 'jobless': 6144, 'mmmmm': 6145, 'fence': 6146, 'voicemail': 6147, 'comment': 6148, 'adult_bart:': 6149, 'railroads': 6150, 'lincoln': 6151, 'finding': 6152, 'besides': 6153, 'slab': 6154, 'asking': 6155, 'acceptance': 6156, 'honest': 6157, 'gotcha': 6158, 'stagy': 6159, 'johnny': 6160, 'german': 6161, 'espousing': 6162, 'answered': 6163, 'news': 6164, 'disappear': 6165, 'twenty': 6166, 'viva': 6167, 'museum': 6168, 'settled': 6169, \"g'ahead\": 6170, 'compare': 6171, 'neanderthal': 6172, 'kill': 6173, 'neighbor': 6174, 'grandkids': 6175, 'sounds': 6176, 'shocked': 6177, 'shriners': 6178, 'ballclub': 6179, \"table's\": 6180, 'soon': 6181, 'bedridden': 6182, 'chosen': 6183, 'patrons:': 6184, 'straining': 6185, 'england': 6186, 'five-fifteen': 6187, 'ehhhhhhhhh': 6188, 'griffith': 6189, 'tongue': 6190, 'gluten': 6191, 'sieben-gruben': 6192, 'aggravated': 6193, 'ons': 6194, 'south': 6195, 'runners': 6196, 'bully': 6197, 'professional': 6198, 'code': 6199, 'sympathizer': 6200, 'ihop': 6201, 'pocket': 6202, 'breath': 6203, 'spent': 6204, 'ohhhh': 6205, 'sturdy': 6206, 'enough': 6207, 'duty': 6208, \"spiffin'\": 6209, 'guiltily': 6210, 'blobbo': 6211, 'soul-crushing': 6212, 'rods': 6213, 'free': 6214, 'tragedy': 6215, 'strictly': 6216, 'third': 6217, 'assent': 6218, 'yak': 6219, 'temporarily': 6220, 'a': 6221, 'thought_bubble_homer:': 6222, 'ironic': 6223, 'generally': 6224, 'alls': 6225, 'declan': 6226, 'infiltrate': 6227, 'laughs': 6228, 'remembering': 6229, 'sharity': 6230, 'factor': 6231, 'clothespins:': 6232, 'torn': 6233, 'unsanitary': 6234, 'honeys': 6235, 'wowww': 6236, 'cockroaches': 6237, 'dryer': 6238, 'official': 6239, 'sketching': 6240, 'waterfront': 6241, 'pathetic': 6242, \"tony's\": 6243, 'unkempt': 6244, 'extinguishers': 6245, 'nos': 6246, 'paper': 6247, 'bear': 6248, 'kissing': 6249, 'fayed': 6250, 'north': 6251, 'madman': 6252, 'eat': 6253, 'researching': 6254, 'mad': 6255, 'moments': 6256, 'daniel': 6257, 'lotta': 6258, 'culkin': 6259, 'rebuttal': 6260, 'thrilled': 6261, \"lisa's\": 6262, 'organ': 6263, 'separator': 6264, \"fun's\": 6265, 'missing': 6266, 'wounds': 6267, \"soakin's\": 6268, 'life-sized': 6269, 'landfill': 6270, 'nards': 6271, 'manboobs': 6272, 'airport': 6273, 'order': 6274, 'archaeologist': 6275, 'corporate': 6276, \"bart's\": 6277, 'packets': 6278, 'broadway': 6279, \"stallin'\": 6280, 'seeing': 6281, 'dirty': 6282, 'read:': 6283, 'anderson': 6284, 'frosty': 6285, 'awake': 6286, 'evening': 6287, 'add': 6288, 'friday': 6289, 'springfield': 6290, 'grabs': 6291, 'aboard': 6292, 'him': 6293, 'noooooooooo': 6294, 'gums': 6295, 'old': 6296, 'undermine': 6297, 'fruit': 6298, 'part-time': 6299, 'burn': 6300, 'eva': 6301, 'barstools': 6302, 'sugar-me-do': 6303, 'japanese': 6304, 'well': 6305, 'chug': 6306, 'halvsies': 6307, 'fact': 6308, 'nonchalantly': 6309, 'happens': 6310, 'chilly': 6311, 'sly': 6312, 'startled': 6313, 'worldly': 6314, 'souped': 6315, 'accusing': 6316, 'cuddling': 6317, 'p': 6318, 'disguised': 6319, 'bounced': 6320, 'bloodiest': 6321, \"haven't\": 6322, 'eight': 6323, 'bald': 6324, 'looked': 6325, \"talkin'\": 6326, 'easy': 6327, 'occupied': 6328, 'fears': 6329, 'problem': 6330, 'statues': 6331, 'girl': 6332, 'up': 6333, 'railroad': 6334, 'often': 6335, 'pian-ee': 6336, 'supreme': 6337, 'oof': 6338, 'ideas': 6339, 'magic': 6340, 'school': 6341, 'begging': 6342, 'jeff_gordon:': 6343, 'need': 6344, \"renovatin'\": 6345, 'remodel': 6346, 'dessert': 6347, 'punk': 6348, 'stamp': 6349, 'wiping': 6350, 'west': 6351, 'tale': 6352, 'bake': 6353, 'sizes': 6354, 'nooo': 6355, 'pretending': 6356, 'yap': 6357, 'knit': 6358, 'musta': 6359, 'provide': 6360, 'gals': 6361, 'yello': 6362, 'anyhow': 6363, 'fans': 6364, 'gargoyles': 6365, \"year's\": 6366, 'juice': 6367, 'approval': 6368, 'occurs': 6369, 'moe-heads': 6370, 'prep': 6371, 'eaters': 6372, 'backing': 6373, 'uncle': 6374, 'tape': 6375, 'cheese': 6376, 'fold': 6377, 'cobbling': 6378, 'usually': 6379, \"i'm\": 6380, 'joining': 6381, 'ready': 6382, 'commit': 6383, 'rock': 6384, 'showered': 6385, 'the': 6386, 'toilet': 6387, 'thomas': 6388, 'yelp': 6389, ':': 6390, 'brawled': 6391, 'light': 6392, 'practically': 6393, 'drug': 6394, 'stools': 6395, 'sponge': 6396, 'luxury': 6397, 'english': 6398, 'housewife': 6399, 'normal': 6400, 'sotto': 6401, 'lonely': 6402, 'purse': 6403, 'touches': 6404, 'animals': 6405, 'contract': 6406, 'military': 6407, 'synthesize': 6408, 'peace': 6409, 'soap': 6410, 'babies': 6411, 'bumpy-like': 6412, 'pretzels': 6413, 'hockey-fight': 6414, 'doll-baby': 6415, 'sucks': 6416, 'month': 6417, 'lurleen_lumpkin:': 6418, 'folks': 6419, 'adult': 6420, 'nevada': 6421, 'leonard': 6422, 'engraved': 6423, 'verdict': 6424, 'amber_dempsey:': 6425, 'needy': 6426, 'stillwater:': 6427, 'declare': 6428, 'obvious': 6429, 'terrified': 6430, 'housework': 6431, \"takin'\": 6432, 'quit': 6433, 'tried': 6434, 'forbidden': 6435, 'drains': 6436, 'media': 6437, 'confidentially': 6438, 'belong': 6439, 'courts': 6440, 'forever': 6441, 'root': 6442, 'remote': 6443, 'stones': 6444, 'darn': 6445, 'chief_wiggum:': 6446, 'valuable': 6447, 'solves': 6448, 'does': 6449, 'bumbling': 6450, 'bunch': 6451, 'anywhere': 6452, 'inside': 6453, 'doof': 6454, 'executive': 6455, \"this'll\": 6456, 'grampa_simpson:': 6457, 'superpower': 6458, 'astonishment': 6459, 'urge': 6460, 'scully': 6461, 'macaulay': 6462, 'star': 6463, 'trail': 6464, 'letters': 6465, 'enjoys': 6466, 'stern': 6467, 'old-time': 6468, 'count': 6469, 'eats': 6470, 'southern': 6471, \"tatum'll\": 6472, 'mozzarella': 6473, 'dory': 6474, 'mine': 6475, 'gestated': 6476, 'dumptruck': 6477, 'rickles': 6478, 'tips': 6479, 'ahhhh': 6480, \"seein'\": 6481, 'repeated': 6482, 'skirt': 6483, 'zero': 6484, 'lenny': 6485, 'men': 6486, 'cuckoo': 6487, 'dude': 6488, 'scanning': 6489, 'space': 6490, 'rolled': 6491, 'once': 6492, 'wisconsin': 6493, 'wealthy': 6494, 'kneeling': 6495, 'invisible': 6496, 'thirty-five': 6497, 'form': 6498, 'wienerschnitzel': 6499, 'march': 6500, 'stuck': 6501, 'repressed': 6502, 'thunder': 6503, 'resolution': 6504, 'wizard': 6505, 'happily:': 6506, 'us': 6507, \"rustlin'\": 6508, 'fritz': 6509, 'macho': 6510, 'accident': 6511, 'technical': 6512, 'abercrombie': 6513, 'british': 6514, 'takeaway': 6515, 'prison': 6516, 'otherwise': 6517, 'difficult': 6518, 'tom': 6519, 'mull': 6520, 'mike_mills:': 6521, 'woo': 6522, 'ignorant': 6523, 'outlive': 6524, 'h': 6525, 'arab_man:': 6526, 'homers': 6527, 'kl5-4796': 6528, 'meaning': 6529, '7-year-old_brockman:': 6530, 'sector': 6531, 'class': 6532, 'omigod': 6533, 'small_boy:': 6534, 'rip': 6535, 'pee': 6536, 'dying': 6537, 'puts': 6538, 'feed': 6539, 'clientele': 6540, 'clapping': 6541, \"neat's-foot\": 6542, 'britannia': 6543, 'enthusiastically': 6544, 'hilton': 6545, 'tribute': 6546, 'un-sults': 6547, 'truck': 6548, 'hems': 6549, \"handwriting's\": 6550, 'community': 6551, \"fishin'\": 6552, 'begin': 6553, 'r': 6554, 'pronto': 6555, 'stevie': 6556, 'including': 6557, 'rounds': 6558, 'cheryl': 6559, 'gonna': 6560, 'characteristic': 6561, 'hats': 6562, 'worse': 6563, 'belly-aching': 6564, 'studio': 6565, 'guff': 6566, \"playin'\": 6567, 'yea': 6568, 'presidential': 6569, \"ridin'\": 6570, \"summer's\": 6571, 'ninety-seven': 6572, 'brief': 6573, 'genius': 6574, 'ha': 6575, 'sobo': 6576, 'prettied': 6577, 'disappointment': 6578, 'access': 6579, 'lump': 6580, 'eddie:': 6581, 'rev': 6582, 'kazoo': 6583, 'crap': 6584, 'pretends': 6585, 'monkey': 6586, 'coward': 6587, 'passenger': 6588, 'nachos': 6589, 'hit': 6590, 'comes': 6591, 'expense': 6592, \"askin'\": 6593, 'maude': 6594, 're:': 6595, 'fools': 6596, 'philosophical': 6597, 'exit': 6598, \"it'll\": 6599, \"hasn't\": 6600, '_powers:': 6601, 'jogging': 6602, 'mom': 6603, 'value': 6604, 'reason': 6605, 'absentminded': 6606, 'lungs': 6607, 'adventure': 6608, 'bugging': 6609, 'sucked': 6610, 'orders': 6611, 'blue': 6612, 'unfair': 6613, 'everywhere': 6614, 'dads': 6615, 'tuna': 6616, 'population': 6617, 'etc': 6618, 'equivalent': 6619, 'shotgun': 6620, 'eternity': 6621, 'excellent': 6622, 'noble': 6623, \"one's\": 6624, 'carlson': 6625, 'warmth': 6626, 'gag': 6627, 'enemy': 6628, 'video': 6629, 'eurotrash': 6630, 'supply': 6631, 'happen': 6632, 'charm': 6633, 'disappeared': 6634, 'take': 6635, 'musses': 6636, 'channel': 6637, 'farewell': 6638, 'catty': 6639, 'bunion': 6640, 'whip': 6641, 'named': 6642, 'young': 6643, 'wars': 6644, 'unhappy': 6645, 'sedaris': 6646, 'smokes': 6647, 'pickles': 6648, 'they': 6649, 'electronic': 6650, 'meanwhile': 6651, '_timothy_lovejoy:': 6652, 'products': 6653, 'magnanimous': 6654, 'dreamily': 6655, 'strains': 6656, 'rough': 6657, 'starters': 6658, 'falcons': 6659, \"tramp's\": 6660, 'spreads': 6661, 'informant': 6662, 'imported-sounding': 6663, 'eyesore': 6664, 'toledo': 6665, 'edelbrock': 6666, 'tactful': 6667, 'kent': 6668, 'feast': 6669, 'said': 6670, 'comedies': 6671, 'bloodball': 6672, 'taylor': 6673, 'virile': 6674, 'script': 6675, 'newest': 6676, 'wondering': 6677, 'arrested:': 6678, 'perking': 6679, \"gentleman's\": 6680, 'meaningful': 6681, 'wear': 6682, 'rafter': 6683, 'elect': 6684, 'salt': 6685, 'haw': 6686, 'grocery': 6687, 'gumbo': 6688, 'mostrar': 6689, 'wall': 6690, 'ow': 6691, 'gentles': 6692, 'unlucky': 6693, 'rent': 6694, 'signal': 6695, '_julius_hibbert:': 6696, 'unrelated': 6697, 'decided': 6698, 'weekend': 6699, 'toxins': 6700, 'began': 6701, 'conversion': 6702, 'renovations': 6703, 'notices': 6704, 'and/or': 6705, \"livin'\": 6706, 'enthused': 6707, 'and:': 6708, 'thinks': 6709, \"you're\": 6710, 'unlocked': 6711, 'history': 6712, 'college': 6713, 'cheering': 6714, 'bumblebee_man:': 6715, '_hooper:': 6716, 'plan': 6717, 'ned_flanders:': 6718, 'sat': 6719, 'clown-like': 6720, 'meatpies': 6721, 'words': 6722, 'shaking': 6723, 'effigy': 6724, 'blessing': 6725, 'fresco': 6726, 'maitre': 6727, 'bridge': 6728, 'chic': 6729, 'books': 6730, 'teddy': 6731, 'forgets': 6732, 'intoxicants': 6733, 'oww': 6734, 'shaggy': 6735, 'releases': 6736, 'syndicate': 6737, 'xx': 6738, 'self': 6739, 'lou:': 6740, 'methinks': 6741, 'halfway': 6742, 'sharps': 6743, 'enveloped': 6744, 'clammy': 6745, 'find': 6746, 'terrorizing': 6747, 'deli': 6748, \"where'd\": 6749, 'noose': 6750, 'owner': 6751, 'betty:': 6752, 'cute': 6753, 'pennies': 6754, 'kirk': 6755, 'can': 6756, 'vengeance': 6757, 'rat-like': 6758, 'ate': 6759, 'escort': 6760, 'wore': 6761, 'fridge': 6762, 'completing': 6763, 'feet': 6764, 'effect': 6765, 'beer-jerks': 6766, 'rasputin': 6767, 'excavating': 6768, 'aw': 6769, 'winner': 6770, 'astronauts': 6771, 'wednesday': 6772, 'sigh': 6773, 'seemed': 6774, 'settlement': 6775, 'crummy': 6776, 'more': 6777, 'pajamas': 6778}\n"
     ]
    }
   ],
   "source": [
    "print(vocab_to_int)"
   ]
  },
  {
   "cell_type": "markdown",
   "metadata": {},
   "source": [
    "## Build the Neural Network\n",
    "You'll build the components necessary to build a RNN by implementing the following functions below:\n",
    "- get_inputs\n",
    "- get_init_cell\n",
    "- get_embed\n",
    "- build_rnn\n",
    "- build_nn\n",
    "- get_batches\n",
    "\n",
    "### Check the Version of TensorFlow and Access to GPU"
   ]
  },
  {
   "cell_type": "code",
   "execution_count": 11,
   "metadata": {},
   "outputs": [
    {
     "name": "stdout",
     "output_type": "stream",
     "text": [
      "TensorFlow Version: 1.8.0\n"
     ]
    },
    {
     "name": "stderr",
     "output_type": "stream",
     "text": [
      "/home/sayem/Softwares/anaconda3/envs/dlnd/lib/python3.6/site-packages/ipykernel_launcher.py:14: UserWarning: No GPU found. Please use a GPU to train your neural network.\n",
      "  \n"
     ]
    }
   ],
   "source": [
    "\"\"\"\n",
    "DON'T MODIFY ANYTHING IN THIS CELL\n",
    "\"\"\"\n",
    "from distutils.version import LooseVersion\n",
    "import warnings\n",
    "import tensorflow as tf\n",
    "\n",
    "# Check TensorFlow Version\n",
    "assert LooseVersion(tf.__version__) >= LooseVersion('1.3'), 'Please use TensorFlow version 1.3 or newer'\n",
    "print('TensorFlow Version: {}'.format(tf.__version__))\n",
    "\n",
    "# Check for a GPU\n",
    "if not tf.test.gpu_device_name():\n",
    "    warnings.warn('No GPU found. Please use a GPU to train your neural network.')\n",
    "else:\n",
    "    print('Default GPU Device: {}'.format(tf.test.gpu_device_name()))"
   ]
  },
  {
   "cell_type": "markdown",
   "metadata": {},
   "source": [
    "### Input\n",
    "Implement the `get_inputs()` function to create TF Placeholders for the Neural Network.  It should create the following placeholders:\n",
    "- Input text placeholder named \"input\" using the [TF Placeholder](https://www.tensorflow.org/api_docs/python/tf/placeholder) `name` parameter.\n",
    "- Targets placeholder\n",
    "- Learning Rate placeholder\n",
    "\n",
    "Return the placeholders in the following tuple `(Input, Targets, LearningRate)`"
   ]
  },
  {
   "cell_type": "code",
   "execution_count": 13,
   "metadata": {},
   "outputs": [
    {
     "name": "stdout",
     "output_type": "stream",
     "text": [
      "Tests Passed\n"
     ]
    }
   ],
   "source": [
    "def get_inputs():\n",
    "    \"\"\"\n",
    "    Create TF Placeholders for input, targets, and learning rate.\n",
    "    :return: Tuple (input, targets, learning rate)\n",
    "    \"\"\"\n",
    "    # TODO: Implement Function\n",
    "    inputs = tf.placeholder(tf.int32, [None, None], name='input')\n",
    "    targets = tf.placeholder(tf.int32, [None, None], name='targets')\n",
    "    learningRate = tf.placeholder(tf.float32, name='learning_rate')\n",
    "    return inputs, targets, learningRate\n",
    "    \n",
    "\n",
    "\"\"\"\n",
    "DON'T MODIFY ANYTHING IN THIS CELL THAT IS BELOW THIS LINE\n",
    "\"\"\"\n",
    "tests.test_get_inputs(get_inputs)"
   ]
  },
  {
   "cell_type": "markdown",
   "metadata": {},
   "source": [
    "### Build RNN Cell and Initialize\n",
    "Stack one or more [`BasicLSTMCells`](https://www.tensorflow.org/api_docs/python/tf/contrib/rnn/BasicLSTMCell) in a [`MultiRNNCell`](https://www.tensorflow.org/api_docs/python/tf/contrib/rnn/MultiRNNCell).\n",
    "- The Rnn size should be set using `rnn_size`\n",
    "- Initalize Cell State using the MultiRNNCell's [`zero_state()`](https://www.tensorflow.org/api_docs/python/tf/contrib/rnn/MultiRNNCell#zero_state) function\n",
    "    - Apply the name \"initial_state\" to the initial state using [`tf.identity()`](https://www.tensorflow.org/api_docs/python/tf/identity)\n",
    "\n",
    "Return the cell and initial state in the following tuple `(Cell, InitialState)`"
   ]
  },
  {
   "cell_type": "code",
   "execution_count": 14,
   "metadata": {},
   "outputs": [
    {
     "name": "stdout",
     "output_type": "stream",
     "text": [
      "Tests Passed\n"
     ]
    }
   ],
   "source": [
    "def get_init_cell(batch_size, rnn_size):\n",
    "    \"\"\"\n",
    "    Create an RNN Cell and initialize it.\n",
    "    :param batch_size: Size of batches\n",
    "    :param rnn_size: Size of RNNs\n",
    "    :return: Tuple (cell, initialize state)\n",
    "    \"\"\"\n",
    "    # TODO: Implement Function\n",
    "    lstm_layer = 3\n",
    "    lstm = tf.contrib.rnn.BasicLSTMCell(rnn_size)\n",
    "    cell = tf.contrib.rnn.MultiRNNCell([lstm for i in range(lstm_layer)])\n",
    "    initialState = cell.zero_state(batch_size, tf.float32)\n",
    "    initialState = tf.identity(initialState, name=\"initial_state\")\n",
    "    return cell, initialState\n",
    "    \n",
    "\n",
    "\"\"\"\n",
    "DON'T MODIFY ANYTHING IN THIS CELL THAT IS BELOW THIS LINE\n",
    "\"\"\"\n",
    "tests.test_get_init_cell(get_init_cell)"
   ]
  },
  {
   "cell_type": "markdown",
   "metadata": {},
   "source": [
    "### Word Embedding\n",
    "Apply embedding to `input_data` using TensorFlow.  Return the embedded sequence."
   ]
  },
  {
   "cell_type": "code",
   "execution_count": 15,
   "metadata": {},
   "outputs": [
    {
     "name": "stdout",
     "output_type": "stream",
     "text": [
      "Tests Passed\n"
     ]
    }
   ],
   "source": [
    "def get_embed(input_data, vocab_size, embed_dim):\n",
    "    \"\"\"\n",
    "    Create embedding for <input_data>.\n",
    "    :param input_data: TF placeholder for text input.\n",
    "    :param vocab_size: Number of words in vocabulary.\n",
    "    :param embed_dim: Number of embedding dimensions\n",
    "    :return: Embedded input.\n",
    "    \"\"\"\n",
    "    # TODO: Implement Function\n",
    "    embedding_mat = tf.Variable(tf.random_uniform((vocab_size, embed_dim), -1, 1))\n",
    "    embed = tf.nn.embedding_lookup(embedding_mat, input_data)\n",
    "    return embed\n",
    "\n",
    "\n",
    "\"\"\"\n",
    "DON'T MODIFY ANYTHING IN THIS CELL THAT IS BELOW THIS LINE\n",
    "\"\"\"\n",
    "tests.test_get_embed(get_embed)"
   ]
  },
  {
   "cell_type": "markdown",
   "metadata": {},
   "source": [
    "### Build RNN\n",
    "You created a RNN Cell in the `get_init_cell()` function.  Time to use the cell to create a RNN.\n",
    "- Build the RNN using the [`tf.nn.dynamic_rnn()`](https://www.tensorflow.org/api_docs/python/tf/nn/dynamic_rnn)\n",
    " - Apply the name \"final_state\" to the final state using [`tf.identity()`](https://www.tensorflow.org/api_docs/python/tf/identity)\n",
    "\n",
    "Return the outputs and final_state state in the following tuple `(Outputs, FinalState)` "
   ]
  },
  {
   "cell_type": "code",
   "execution_count": 16,
   "metadata": {},
   "outputs": [
    {
     "name": "stdout",
     "output_type": "stream",
     "text": [
      "Tests Passed\n"
     ]
    }
   ],
   "source": [
    "def build_rnn(cell, inputs):\n",
    "    \"\"\"\n",
    "    Create a RNN using a RNN Cell\n",
    "    :param cell: RNN Cell\n",
    "    :param inputs: Input text data\n",
    "    :return: Tuple (Outputs, Final State)\n",
    "    \"\"\"\n",
    "    # TODO: Implement Function\n",
    "    outputs, finalState = tf.nn.dynamic_rnn(cell, inputs, dtype=tf.float32)\n",
    "    finalState = tf.identity(finalState, name='final_state')\n",
    "    return outputs, finalState\n",
    "\n",
    "\n",
    "\"\"\"\n",
    "DON'T MODIFY ANYTHING IN THIS CELL THAT IS BELOW THIS LINE\n",
    "\"\"\"\n",
    "tests.test_build_rnn(build_rnn)"
   ]
  },
  {
   "cell_type": "markdown",
   "metadata": {},
   "source": [
    "### Build the Neural Network\n",
    "Apply the functions you implemented above to:\n",
    "- Apply embedding to `input_data` using your `get_embed(input_data, vocab_size, embed_dim)` function.\n",
    "- Build RNN using `cell` and your `build_rnn(cell, inputs)` function.\n",
    "- Apply a fully connected layer with a linear activation and `vocab_size` as the number of outputs.\n",
    "\n",
    "Return the logits and final state in the following tuple (Logits, FinalState) "
   ]
  },
  {
   "cell_type": "code",
   "execution_count": 17,
   "metadata": {},
   "outputs": [
    {
     "name": "stdout",
     "output_type": "stream",
     "text": [
      "Tests Passed\n"
     ]
    }
   ],
   "source": [
    "def build_nn(cell, rnn_size, input_data, vocab_size, embed_dim):\n",
    "    \"\"\"\n",
    "    Build part of the neural network\n",
    "    :param cell: RNN cell\n",
    "    :param rnn_size: Size of rnns\n",
    "    :param input_data: Input data\n",
    "    :param vocab_size: Vocabulary size\n",
    "    :param embed_dim: Number of embedding dimensions\n",
    "    :return: Tuple (Logits, FinalState)\n",
    "    \"\"\"\n",
    "    # TODO: Implement Function\n",
    "    embeds = get_embed(input_data, vocab_size, embed_dim)\n",
    "    outputs, final_state = build_rnn(cell, embeds)\n",
    "    logits = tf.contrib.layers.fully_connected(outputs, vocab_size, activation_fn=None, \n",
    "                                            biases_initializer=tf.zeros_initializer(),\n",
    "                                            weights_initializer=tf.truncated_normal_initializer(mean=0, stddev=0.1))\n",
    "    return logits, final_state\n",
    "\n",
    "\"\"\"\n",
    "DON'T MODIFY ANYTHING IN THIS CELL THAT IS BELOW THIS LINE\n",
    "\"\"\"\n",
    "tests.test_build_nn(build_nn)"
   ]
  },
  {
   "cell_type": "markdown",
   "metadata": {},
   "source": [
    "### Batches\n",
    "Implement `get_batches` to create batches of input and targets using `int_text`.  The batches should be a Numpy array with the shape `(number of batches, 2, batch size, sequence length)`. Each batch contains two elements:\n",
    "- The first element is a single batch of **input** with the shape `[batch size, sequence length]`\n",
    "- The second element is a single batch of **targets** with the shape `[batch size, sequence length]`\n",
    "\n",
    "If you can't fill the last batch with enough data, drop the last batch.\n",
    "\n",
    "For example, `get_batches([1, 2, 3, 4, 5, 6, 7, 8, 9, 10, 11, 12, 13, 14, 15, 16, 17, 18, 19, 20], 3, 2)` would return a Numpy array of the following:\n",
    "```\n",
    "[\n",
    "  # First Batch\n",
    "  [\n",
    "    # Batch of Input\n",
    "    [[ 1  2], [ 7  8], [13 14]]\n",
    "    # Batch of targets\n",
    "    [[ 2  3], [ 8  9], [14 15]]\n",
    "  ]\n",
    "\n",
    "  # Second Batch\n",
    "  [\n",
    "    # Batch of Input\n",
    "    [[ 3  4], [ 9 10], [15 16]]\n",
    "    # Batch of targets\n",
    "    [[ 4  5], [10 11], [16 17]]\n",
    "  ]\n",
    "\n",
    "  # Third Batch\n",
    "  [\n",
    "    # Batch of Input\n",
    "    [[ 5  6], [11 12], [17 18]]\n",
    "    # Batch of targets\n",
    "    [[ 6  7], [12 13], [18  1]]\n",
    "  ]\n",
    "]\n",
    "```\n",
    "\n",
    "Notice that the last target value in the last batch is the first input value of the first batch. In this case, `1`. This is a common technique used when creating sequence batches, although it is rather unintuitive."
   ]
  },
  {
   "cell_type": "code",
   "execution_count": 18,
   "metadata": {},
   "outputs": [
    {
     "name": "stdout",
     "output_type": "stream",
     "text": [
      "Tests Passed\n"
     ]
    }
   ],
   "source": [
    "def get_batches(int_text, batch_size, seq_length):\n",
    "    \"\"\"\n",
    "    Return batches of input and target\n",
    "    :param int_text: Text with the words replaced by their ids\n",
    "    :param batch_size: The size of batch\n",
    "    :param seq_length: The length of sequence\n",
    "    :return: Batches as a Numpy array\n",
    "    \"\"\"\n",
    "    # TODO: Implement Function\n",
    "    total_words = len(int_text)\n",
    "    number_of_batches = total_words // (batch_size * seq_length)\n",
    "    \n",
    "    inputs = np.array(int_text[:(number_of_batches * batch_size * seq_length)])\n",
    "    targets = np.array(int_text[1:(number_of_batches * batch_size * seq_length + 1)])\n",
    "    targets[-1] = inputs[0]\n",
    "    \n",
    "    inputs = inputs.reshape(batch_size, -1)\n",
    "    targets = targets.reshape(batch_size, -1)\n",
    "    \n",
    "    input_batches = np.split(inputs, number_of_batches, 1)\n",
    "    target_batches = np.split(targets, number_of_batches, 1)\n",
    "    batches = np.array(list(zip(input_batches, target_batches)))\n",
    "    return batches\n",
    "\n",
    "\"\"\"\n",
    "DON'T MODIFY ANYTHING IN THIS CELL THAT IS BELOW THIS LINE\n",
    "\"\"\"\n",
    "tests.test_get_batches(get_batches)"
   ]
  },
  {
   "cell_type": "markdown",
   "metadata": {},
   "source": [
    "## Neural Network Training\n",
    "### Hyperparameters\n",
    "Tune the following parameters:\n",
    "\n",
    "- Set `num_epochs` to the number of epochs.\n",
    "- Set `batch_size` to the batch size.\n",
    "- Set `rnn_size` to the size of the RNNs.\n",
    "- Set `embed_dim` to the size of the embedding.\n",
    "- Set `seq_length` to the length of sequence.\n",
    "- Set `learning_rate` to the learning rate.\n",
    "- Set `show_every_n_batches` to the number of batches the neural network should print progress."
   ]
  },
  {
   "cell_type": "code",
   "execution_count": 19,
   "metadata": {},
   "outputs": [],
   "source": [
    "# Number of Epochs\n",
    "num_epochs = 100\n",
    "# Batch Size\n",
    "batch_size = 256\n",
    "# RNN Size\n",
    "rnn_size = 512\n",
    "# Embedding Dimension Size\n",
    "embed_dim = 512\n",
    "# Sequence Length\n",
    "seq_length = 30\n",
    "# Learning Rate\n",
    "learning_rate = 0.01\n",
    "# Show stats for every n number of batches\n",
    "show_every_n_batches = 64\n",
    "\n",
    "\"\"\"\n",
    "DON'T MODIFY ANYTHING IN THIS CELL THAT IS BELOW THIS LINE\n",
    "\"\"\"\n",
    "save_dir = './save'"
   ]
  },
  {
   "cell_type": "markdown",
   "metadata": {},
   "source": [
    "### Build the Graph\n",
    "Build the graph using the neural network you implemented."
   ]
  },
  {
   "cell_type": "code",
   "execution_count": 65,
   "metadata": {},
   "outputs": [],
   "source": [
    "\"\"\"\n",
    "DON'T MODIFY ANYTHING IN THIS CELL\n",
    "\"\"\"\n",
    "from tensorflow.contrib import seq2seq\n",
    "\n",
    "train_graph = tf.Graph()\n",
    "with train_graph.as_default():\n",
    "    vocab_size = len(int_to_vocab)\n",
    "    input_text, targets, lr = get_inputs()\n",
    "    input_data_shape = tf.shape(input_text)\n",
    "    cell, initial_state = get_init_cell(input_data_shape[0], rnn_size)\n",
    "    logits, final_state = build_nn(cell, rnn_size, input_text, vocab_size, embed_dim)\n",
    "\n",
    "    # Probabilities for generating words\n",
    "    probs = tf.nn.softmax(logits, name='probs')\n",
    "\n",
    "    # Loss function\n",
    "    cost = seq2seq.sequence_loss(\n",
    "        logits,\n",
    "        targets,\n",
    "        tf.ones([input_data_shape[0], input_data_shape[1]]))\n",
    "\n",
    "    # Optimizer\n",
    "    optimizer = tf.train.AdamOptimizer(lr)\n",
    "\n",
    "    # Gradient Clipping\n",
    "    gradients = optimizer.compute_gradients(cost)\n",
    "    capped_gradients = [(tf.clip_by_value(grad, -1., 1.), var) for grad, var in gradients if grad is not None]\n",
    "    train_op = optimizer.apply_gradients(capped_gradients)"
   ]
  },
  {
   "cell_type": "markdown",
   "metadata": {},
   "source": [
    "## Train\n",
    "Train the neural network on the preprocessed data.  If you have a hard time getting a good loss, check the [forums](https://discussions.udacity.com/) to see if anyone is having the same problem."
   ]
  },
  {
   "cell_type": "code",
   "execution_count": null,
   "metadata": {
    "collapsed": true
   },
   "outputs": [],
   "source": [
    "\"\"\"\n",
    "DON'T MODIFY ANYTHING IN THIS CELL\n",
    "\"\"\"\n",
    "batches = get_batches(int_text, batch_size, seq_length)\n",
    "\n",
    "with tf.Session(graph=train_graph) as sess:\n",
    "    sess.run(tf.global_variables_initializer())\n",
    "\n",
    "    for epoch_i in range(num_epochs):\n",
    "        state = sess.run(initial_state, {input_text: batches[0][0]})\n",
    "\n",
    "        for batch_i, (x, y) in enumerate(batches):\n",
    "            feed = {\n",
    "                input_text: x,\n",
    "                targets: y,\n",
    "                initial_state: state,\n",
    "                lr: learning_rate}\n",
    "            train_loss, state, _ = sess.run([cost, final_state, train_op], feed)\n",
    "\n",
    "            # Show every <show_every_n_batches> batches\n",
    "            if (epoch_i * len(batches) + batch_i) % show_every_n_batches == 0:\n",
    "                print('Epoch {:>3} Batch {:>4}/{}   train_loss = {:.3f}'.format(\n",
    "                    epoch_i,\n",
    "                    batch_i,\n",
    "                    len(batches),\n",
    "                    train_loss))\n",
    "\n",
    "    # Save Model\n",
    "    saver = tf.train.Saver()\n",
    "    saver.save(sess, save_dir)\n",
    "    print('Model Trained and Saved')"
   ]
  },
  {
   "cell_type": "markdown",
   "metadata": {},
   "source": [
    "## Save Parameters\n",
    "Save `seq_length` and `save_dir` for generating a new TV script."
   ]
  },
  {
   "cell_type": "code",
   "execution_count": null,
   "metadata": {
    "collapsed": true
   },
   "outputs": [],
   "source": [
    "\"\"\"\n",
    "DON'T MODIFY ANYTHING IN THIS CELL\n",
    "\"\"\"\n",
    "# Save parameters for checkpoint\n",
    "helper.save_params((seq_length, save_dir))"
   ]
  },
  {
   "cell_type": "markdown",
   "metadata": {},
   "source": [
    "# Checkpoint"
   ]
  },
  {
   "cell_type": "code",
   "execution_count": null,
   "metadata": {
    "collapsed": true
   },
   "outputs": [],
   "source": [
    "\"\"\"\n",
    "DON'T MODIFY ANYTHING IN THIS CELL\n",
    "\"\"\"\n",
    "import tensorflow as tf\n",
    "import numpy as np\n",
    "import helper\n",
    "import problem_unittests as tests\n",
    "\n",
    "_, vocab_to_int, int_to_vocab, token_dict = helper.load_preprocess()\n",
    "seq_length, load_dir = helper.load_params()"
   ]
  },
  {
   "cell_type": "markdown",
   "metadata": {},
   "source": [
    "## Implement Generate Functions\n",
    "### Get Tensors\n",
    "Get tensors from `loaded_graph` using the function [`get_tensor_by_name()`](https://www.tensorflow.org/api_docs/python/tf/Graph#get_tensor_by_name).  Get the tensors using the following names:\n",
    "- \"input:0\"\n",
    "- \"initial_state:0\"\n",
    "- \"final_state:0\"\n",
    "- \"probs:0\"\n",
    "\n",
    "Return the tensors in the following tuple `(InputTensor, InitialStateTensor, FinalStateTensor, ProbsTensor)` "
   ]
  },
  {
   "cell_type": "code",
   "execution_count": null,
   "metadata": {
    "collapsed": true
   },
   "outputs": [],
   "source": [
    "def get_tensors(loaded_graph):\n",
    "    \"\"\"\n",
    "    Get input, initial state, final state, and probabilities tensor from <loaded_graph>\n",
    "    :param loaded_graph: TensorFlow graph loaded from file\n",
    "    :return: Tuple (InputTensor, InitialStateTensor, FinalStateTensor, ProbsTensor)\n",
    "    \"\"\"\n",
    "    InputTensor = loaded_graph.get_tensor_by_name(\"input:0\")\n",
    "    InitialStateTensor = loaded_graph.get_tensor_by_name(\"initial_state:0\")\n",
    "    FinalStateTensor = loaded_graph.get_tensor_by_name(\"final_state:0\")\n",
    "    ProbsTensor = loaded_graph.get_tensor_by_name(\"probs:0\")\n",
    "    return InputTensor,InitialStateTensor, FinalStateTensor,ProbsTensor\n",
    "\n",
    "\n",
    "\"\"\"\n",
    "DON'T MODIFY ANYTHING IN THIS CELL THAT IS BELOW THIS LINE\n",
    "\"\"\"\n",
    "tests.test_get_tensors(get_tensors)"
   ]
  },
  {
   "cell_type": "markdown",
   "metadata": {},
   "source": [
    "### Choose Word\n",
    "Implement the `pick_word()` function to select the next word using `probabilities`."
   ]
  },
  {
   "cell_type": "code",
   "execution_count": null,
   "metadata": {
    "collapsed": true
   },
   "outputs": [],
   "source": [
    "def pick_word(probabilities, int_to_vocab):\n",
    "    \"\"\"\n",
    "    Pick the next word in the generated text\n",
    "    :param probabilities: Probabilites of the next word\n",
    "    :param int_to_vocab: Dictionary of word ids as the keys and words as the values\n",
    "    :return: String of the predicted word\n",
    "    \"\"\"\n",
    "    # TODO: Implement Function\n",
    "    return int_to_vocab[probabilities.argmax()]\n",
    "\n",
    "\n",
    "\"\"\"\n",
    "DON'T MODIFY ANYTHING IN THIS CELL THAT IS BELOW THIS LINE\n",
    "\"\"\"\n",
    "tests.test_pick_word(pick_word)"
   ]
  },
  {
   "cell_type": "markdown",
   "metadata": {},
   "source": [
    "## Generate TV Script\n",
    "This will generate the TV script for you.  Set `gen_length` to the length of TV script you want to generate."
   ]
  },
  {
   "cell_type": "code",
   "execution_count": null,
   "metadata": {
    "collapsed": true
   },
   "outputs": [],
   "source": [
    "gen_length = 200\n",
    "# homer_simpson, moe_szyslak, or Barney_Gumble\n",
    "prime_word = 'moe_szyslak'\n",
    "\n",
    "\"\"\"\n",
    "DON'T MODIFY ANYTHING IN THIS CELL THAT IS BELOW THIS LINE\n",
    "\"\"\"\n",
    "loaded_graph = tf.Graph()\n",
    "with tf.Session(graph=loaded_graph) as sess:\n",
    "    # Load saved model\n",
    "    loader = tf.train.import_meta_graph(load_dir + '.meta')\n",
    "    loader.restore(sess, load_dir)\n",
    "\n",
    "    # Get Tensors from loaded model\n",
    "    input_text, initial_state, final_state, probs = get_tensors(loaded_graph)\n",
    "\n",
    "    # Sentences generation setup\n",
    "    gen_sentences = [prime_word + ':']\n",
    "    prev_state = sess.run(initial_state, {input_text: np.array([[1]])})\n",
    "\n",
    "    # Generate sentences\n",
    "    for n in range(gen_length):\n",
    "        # Dynamic Input\n",
    "        dyn_input = [[vocab_to_int[word] for word in gen_sentences[-seq_length:]]]\n",
    "        dyn_seq_length = len(dyn_input[0])\n",
    "\n",
    "        # Get Prediction\n",
    "        probabilities, prev_state = sess.run(\n",
    "            [probs, final_state],\n",
    "            {input_text: dyn_input, initial_state: prev_state})\n",
    "        \n",
    "        pred_word = pick_word(probabilities[0][dyn_seq_length-1], int_to_vocab)\n",
    "\n",
    "        gen_sentences.append(pred_word)\n",
    "    \n",
    "    # Remove tokens\n",
    "    tv_script = ' '.join(gen_sentences)\n",
    "    for key, token in token_dict.items():\n",
    "        ending = ' ' if key in ['\\n', '(', '\"'] else ''\n",
    "        tv_script = tv_script.replace(' ' + token.lower(), key)\n",
    "    tv_script = tv_script.replace('\\n ', '\\n')\n",
    "    tv_script = tv_script.replace('( ', '(')\n",
    "        \n",
    "    print(tv_script)"
   ]
  },
  {
   "cell_type": "markdown",
   "metadata": {},
   "source": [
    "# The TV Script is Nonsensical\n",
    "It's ok if the TV script doesn't make any sense.  We trained on less than a megabyte of text.  In order to get good results, you'll have to use a smaller vocabulary or get more data.  Luckily there's more data!  As we mentioned in the beggining of this project, this is a subset of [another dataset](https://www.kaggle.com/wcukierski/the-simpsons-by-the-data).  We didn't have you train on all the data, because that would take too long.  However, you are free to train your neural network on all the data.  After you complete the project, of course.\n",
    "# Submitting This Project\n",
    "When submitting this project, make sure to run all the cells before saving the notebook. Save the notebook file as \"dlnd_tv_script_generation.ipynb\" and save it as a HTML file under \"File\" -> \"Download as\". Include the \"helper.py\" and \"problem_unittests.py\" files in your submission."
   ]
  }
 ],
 "metadata": {
  "kernelspec": {
   "display_name": "Python 3",
   "language": "python",
   "name": "python3"
  },
  "language_info": {
   "codemirror_mode": {
    "name": "ipython",
    "version": 3
   },
   "file_extension": ".py",
   "mimetype": "text/x-python",
   "name": "python",
   "nbconvert_exporter": "python",
   "pygments_lexer": "ipython3",
   "version": "3.6.5"
  },
  "widgets": {
   "state": {},
   "version": "1.1.2"
  }
 },
 "nbformat": 4,
 "nbformat_minor": 1
}
